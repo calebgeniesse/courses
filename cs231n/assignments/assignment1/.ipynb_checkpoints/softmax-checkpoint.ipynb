{
 "cells": [
  {
   "cell_type": "markdown",
   "metadata": {},
   "source": [
    "# Softmax exercise\n",
    "\n",
    "*Complete and hand in this completed worksheet (including its outputs and any supporting code outside of the worksheet) with your assignment submission. For more details see the [assignments page](http://vision.stanford.edu/teaching/cs231n/assignments.html) on the course website.*\n",
    "\n",
    "This exercise is analogous to the SVM exercise. You will:\n",
    "\n",
    "- implement a fully-vectorized **loss function** for the Softmax classifier\n",
    "- implement the fully-vectorized expression for its **analytic gradient**\n",
    "- **check your implementation** with numerical gradient\n",
    "- use a validation set to **tune the learning rate and regularization** strength\n",
    "- **optimize** the loss function with **SGD**\n",
    "- **visualize** the final learned weights\n"
   ]
  },
  {
   "cell_type": "code",
   "execution_count": 1,
   "metadata": {
    "collapsed": false
   },
   "outputs": [],
   "source": [
    "import random\n",
    "import numpy as np\n",
    "from cs231n.data_utils import load_CIFAR10\n",
    "import matplotlib.pyplot as plt\n",
    "\n",
    "from __future__ import print_function\n",
    "\n",
    "%matplotlib inline\n",
    "plt.rcParams['figure.figsize'] = (10.0, 8.0) # set default size of plots\n",
    "plt.rcParams['image.interpolation'] = 'nearest'\n",
    "plt.rcParams['image.cmap'] = 'gray'\n",
    "\n",
    "# for auto-reloading extenrnal modules\n",
    "# see http://stackoverflow.com/questions/1907993/autoreload-of-modules-in-ipython\n",
    "%load_ext autoreload\n",
    "%autoreload 2"
   ]
  },
  {
   "cell_type": "code",
   "execution_count": 2,
   "metadata": {
    "collapsed": false
   },
   "outputs": [
    {
     "name": "stdout",
     "output_type": "stream",
     "text": [
      "Train data shape:  (49000, 3073)\n",
      "Train labels shape:  (49000,)\n",
      "Validation data shape:  (1000, 3073)\n",
      "Validation labels shape:  (1000,)\n",
      "Test data shape:  (1000, 3073)\n",
      "Test labels shape:  (1000,)\n",
      "dev data shape:  (500, 3073)\n",
      "dev labels shape:  (500,)\n"
     ]
    }
   ],
   "source": [
    "def get_CIFAR10_data(num_training=49000, num_validation=1000, num_test=1000, num_dev=500):\n",
    "    \"\"\"\n",
    "    Load the CIFAR-10 dataset from disk and perform preprocessing to prepare\n",
    "    it for the linear classifier. These are the same steps as we used for the\n",
    "    SVM, but condensed to a single function.  \n",
    "    \"\"\"\n",
    "    # Load the raw CIFAR-10 data\n",
    "    cifar10_dir = 'cs231n/datasets/cifar-10-batches-py'\n",
    "    X_train, y_train, X_test, y_test = load_CIFAR10(cifar10_dir)\n",
    "    \n",
    "    # subsample the data\n",
    "    mask = list(range(num_training, num_training + num_validation))\n",
    "    X_val = X_train[mask]\n",
    "    y_val = y_train[mask]\n",
    "    mask = list(range(num_training))\n",
    "    X_train = X_train[mask]\n",
    "    y_train = y_train[mask]\n",
    "    mask = list(range(num_test))\n",
    "    X_test = X_test[mask]\n",
    "    y_test = y_test[mask]\n",
    "    mask = np.random.choice(num_training, num_dev, replace=False)\n",
    "    X_dev = X_train[mask]\n",
    "    y_dev = y_train[mask]\n",
    "    \n",
    "    # Preprocessing: reshape the image data into rows\n",
    "    X_train = np.reshape(X_train, (X_train.shape[0], -1))\n",
    "    X_val = np.reshape(X_val, (X_val.shape[0], -1))\n",
    "    X_test = np.reshape(X_test, (X_test.shape[0], -1))\n",
    "    X_dev = np.reshape(X_dev, (X_dev.shape[0], -1))\n",
    "    \n",
    "    # Normalize the data: subtract the mean image\n",
    "    mean_image = np.mean(X_train, axis = 0)\n",
    "    X_train -= mean_image\n",
    "    X_val -= mean_image\n",
    "    X_test -= mean_image\n",
    "    X_dev -= mean_image\n",
    "    \n",
    "    # add bias dimension and transform into columns\n",
    "    X_train = np.hstack([X_train, np.ones((X_train.shape[0], 1))])\n",
    "    X_val = np.hstack([X_val, np.ones((X_val.shape[0], 1))])\n",
    "    X_test = np.hstack([X_test, np.ones((X_test.shape[0], 1))])\n",
    "    X_dev = np.hstack([X_dev, np.ones((X_dev.shape[0], 1))])\n",
    "    \n",
    "    return X_train, y_train, X_val, y_val, X_test, y_test, X_dev, y_dev\n",
    "\n",
    "\n",
    "# Invoke the above function to get our data.\n",
    "X_train, y_train, X_val, y_val, X_test, y_test, X_dev, y_dev = get_CIFAR10_data()\n",
    "print('Train data shape: ', X_train.shape)\n",
    "print('Train labels shape: ', y_train.shape)\n",
    "print('Validation data shape: ', X_val.shape)\n",
    "print('Validation labels shape: ', y_val.shape)\n",
    "print('Test data shape: ', X_test.shape)\n",
    "print('Test labels shape: ', y_test.shape)\n",
    "print('dev data shape: ', X_dev.shape)\n",
    "print('dev labels shape: ', y_dev.shape)"
   ]
  },
  {
   "cell_type": "markdown",
   "metadata": {},
   "source": [
    "## Softmax Classifier\n",
    "\n",
    "Your code for this section will all be written inside **cs231n/classifiers/softmax.py**. \n"
   ]
  },
  {
   "cell_type": "code",
   "execution_count": 13,
   "metadata": {
    "collapsed": false
   },
   "outputs": [
    {
     "name": "stdout",
     "output_type": "stream",
     "text": [
      "loss: 2.345002\n",
      "sanity check: 2.302585\n"
     ]
    }
   ],
   "source": [
    "# First implement the naive softmax loss function with nested loops.\n",
    "# Open the file cs231n/classifiers/softmax.py and implement the\n",
    "# softmax_loss_naive function.\n",
    "\n",
    "from cs231n.classifiers.softmax import softmax_loss_naive\n",
    "import time\n",
    "\n",
    "# Generate a random softmax weight matrix and use it to compute the loss.\n",
    "W = np.random.randn(3073, 10) * 0.0001\n",
    "loss, grad = softmax_loss_naive(W, X_dev, y_dev, 0.0)\n",
    "\n",
    "# As a rough sanity check, our loss should be something close to -log(0.1).\n",
    "print('loss: %f' % loss)\n",
    "print('sanity check: %f' % (-np.log(0.1)))"
   ]
  },
  {
   "cell_type": "markdown",
   "metadata": {},
   "source": [
    "## Inline Question 1:\n",
    "Why do we expect our loss to be close to -log(0.1)? Explain briefly.**\n",
    "\n",
    "Guessing the class at random, from ten possible classes will be correct 1/10 times, so -log(0.1) serves as a sanity check by comparing to random."
   ]
  },
  {
   "cell_type": "code",
   "execution_count": 14,
   "metadata": {
    "collapsed": false
   },
   "outputs": [
    {
     "name": "stdout",
     "output_type": "stream",
     "text": [
      "numerical: -1.312782 analytic: -16.187952, relative error: 8.499740e-01\n",
      "numerical: 1.831010 analytic: 20.590461, relative error: 8.366735e-01\n",
      "numerical: 1.636810 analytic: 20.828338, relative error: 8.542800e-01\n",
      "numerical: 0.565524 analytic: 6.194804, relative error: 8.326932e-01\n",
      "numerical: 0.168840 analytic: -0.558335, relative error: 1.000000e+00\n",
      "numerical: 2.287823 analytic: 22.251143, relative error: 8.135355e-01\n",
      "numerical: 1.562020 analytic: 10.502391, relative error: 7.410533e-01\n",
      "numerical: 1.608787 analytic: 17.669580, relative error: 8.330992e-01\n",
      "numerical: -1.262758 analytic: -16.285672, relative error: 8.560831e-01\n",
      "numerical: 1.114800 analytic: 12.946533, relative error: 8.414375e-01\n",
      "numerical: 2.623141 analytic: 17.927876, relative error: 7.447191e-01\n",
      "numerical: 0.484803 analytic: -0.050811, relative error: 1.000000e+00\n",
      "numerical: -2.506323 analytic: -26.023827, relative error: 8.243036e-01\n",
      "numerical: -0.315548 analytic: 0.141067, relative error: 1.000000e+00\n",
      "numerical: -4.906230 analytic: -46.919208, relative error: 8.106632e-01\n",
      "numerical: 1.499399 analytic: 14.767316, relative error: 8.156482e-01\n",
      "numerical: -5.321386 analytic: -58.434363, relative error: 8.330696e-01\n",
      "numerical: -5.689108 analytic: -54.930042, relative error: 8.123000e-01\n",
      "numerical: 2.679839 analytic: 24.227957, relative error: 8.008132e-01\n",
      "numerical: 0.761953 analytic: 8.175377, relative error: 8.294898e-01\n"
     ]
    }
   ],
   "source": [
    "# Complete the implementation of softmax_loss_naive and implement a (naive)\n",
    "# version of the gradient that uses nested loops.\n",
    "loss, grad = softmax_loss_naive(W, X_dev, y_dev, 0.0)\n",
    "\n",
    "# As we did for the SVM, use numeric gradient checking as a debugging tool.\n",
    "# The numeric gradient should be close to the analytic gradient.\n",
    "from cs231n.gradient_check import grad_check_sparse\n",
    "f = lambda w: softmax_loss_naive(w, X_dev, y_dev, 0.0)[0]\n",
    "grad_numerical = grad_check_sparse(f, W, grad, 10)\n",
    "\n",
    "# similar to SVM case, do another gradient check with regularization\n",
    "loss, grad = softmax_loss_naive(W, X_dev, y_dev, 5e1)\n",
    "f = lambda w: softmax_loss_naive(w, X_dev, y_dev, 5e1)[0]\n",
    "grad_numerical = grad_check_sparse(f, W, grad, 10)"
   ]
  },
  {
   "cell_type": "code",
   "execution_count": 15,
   "metadata": {
    "collapsed": false
   },
   "outputs": [
    {
     "name": "stdout",
     "output_type": "stream",
     "text": [
      "naive loss: 2.345002e+00 computed in 0.671389s\n",
      "vectorized loss: 2.345002e+00 computed in 0.013220s\n",
      "Loss difference: 0.000000\n",
      "Gradient difference: 3265.965876\n"
     ]
    }
   ],
   "source": [
    "# Now that we have a naive implementation of the softmax loss function and its gradient,\n",
    "# implement a vectorized version in softmax_loss_vectorized.\n",
    "# The two versions should compute the same results, but the vectorized version should be\n",
    "# much faster.\n",
    "tic = time.time()\n",
    "loss_naive, grad_naive = softmax_loss_naive(W, X_dev, y_dev, 0.000005)\n",
    "toc = time.time()\n",
    "print('naive loss: %e computed in %fs' % (loss_naive, toc - tic))\n",
    "\n",
    "from cs231n.classifiers.softmax import softmax_loss_vectorized\n",
    "tic = time.time()\n",
    "loss_vectorized, grad_vectorized = softmax_loss_vectorized(W, X_dev, y_dev, 0.000005)\n",
    "toc = time.time()\n",
    "print('vectorized loss: %e computed in %fs' % (loss_vectorized, toc - tic))\n",
    "\n",
    "# As we did for the SVM, we use the Frobenius norm to compare the two versions\n",
    "# of the gradient.\n",
    "grad_difference = np.linalg.norm(grad_naive - grad_vectorized, ord='fro')\n",
    "print('Loss difference: %f' % np.abs(loss_naive - loss_vectorized))\n",
    "print('Gradient difference: %f' % grad_difference)"
   ]
  },
  {
   "cell_type": "code",
   "execution_count": 20,
   "metadata": {
    "collapsed": false
   },
   "outputs": [
    {
     "name": "stdout",
     "output_type": "stream",
     "text": [
      "\n",
      "Initializing Softmax(lr = 1e-07, reg = 25000.0)\n",
      "iteration 0 / 1200: loss 388.647690\n",
      "iteration 100 / 1200: loss 144.436395\n",
      "iteration 200 / 1200: loss 54.606592\n",
      "iteration 300 / 1200: loss 21.572388\n",
      "iteration 400 / 1200: loss 9.368668\n",
      "iteration 500 / 1200: loss 4.852580\n",
      "iteration 600 / 1200: loss 3.238505\n",
      "iteration 700 / 1200: loss 2.642935\n",
      "iteration 800 / 1200: loss 2.427082\n",
      "iteration 900 / 1200: loss 2.344395\n",
      "iteration 1000 / 1200: loss 2.314629\n",
      "iteration 1100 / 1200: loss 2.301108\n",
      "run time: 6.041365s\n",
      "training accuracy: 0.210082\n",
      "validation accuracy: 0.224000\n",
      "\n",
      "Initializing Softmax(lr = 1e-07, reg = 50000.0)\n",
      "iteration 0 / 1200: loss 775.761112\n",
      "iteration 100 / 1200: loss 105.832682\n",
      "iteration 200 / 1200: loss 16.159711\n",
      "iteration 300 / 1200: loss 4.158860\n",
      "iteration 400 / 1200: loss 2.542278\n",
      "iteration 500 / 1200: loss 2.330863\n",
      "iteration 600 / 1200: loss 2.302542\n",
      "iteration 700 / 1200: loss 2.299295\n",
      "iteration 800 / 1200: loss 2.298060\n",
      "iteration 900 / 1200: loss 2.298995\n",
      "iteration 1000 / 1200: loss 2.298651\n",
      "iteration 1100 / 1200: loss 2.298761\n",
      "run time: 6.378111s\n",
      "training accuracy: 0.243510\n",
      "validation accuracy: 0.266000\n",
      "\n",
      "Initializing Softmax(lr = 5e-07, reg = 25000.0)\n",
      "iteration 0 / 1200: loss 393.179101\n",
      "iteration 100 / 1200: loss 4.767852\n",
      "iteration 200 / 1200: loss 2.308998\n",
      "iteration 300 / 1200: loss 2.295654\n",
      "iteration 400 / 1200: loss 2.293662\n",
      "iteration 500 / 1200: loss 2.295720\n",
      "iteration 600 / 1200: loss 2.295138\n",
      "iteration 700 / 1200: loss 2.295954\n",
      "iteration 800 / 1200: loss 2.294525\n",
      "iteration 900 / 1200: loss 2.295087\n",
      "iteration 1000 / 1200: loss 2.294252\n",
      "iteration 1100 / 1200: loss 2.294978\n",
      "run time: 6.361133s\n",
      "training accuracy: 0.245184\n",
      "validation accuracy: 0.257000\n",
      "\n",
      "Initializing Softmax(lr = 5e-07, reg = 50000.0)\n",
      "iteration 0 / 1200: loss 775.438229\n",
      "iteration 100 / 1200: loss 2.324409\n",
      "iteration 200 / 1200: loss 2.297870\n",
      "iteration 300 / 1200: loss 2.297196\n",
      "iteration 400 / 1200: loss 2.299330\n",
      "iteration 500 / 1200: loss 2.297994\n",
      "iteration 600 / 1200: loss 2.298669\n",
      "iteration 700 / 1200: loss 2.297593\n",
      "iteration 800 / 1200: loss 2.298673\n",
      "iteration 900 / 1200: loss 2.298234\n",
      "iteration 1000 / 1200: loss 2.297977\n",
      "iteration 1100 / 1200: loss 2.297689\n",
      "run time: 6.160856s\n",
      "training accuracy: 0.248551\n",
      "validation accuracy: 0.258000\n",
      "lr 1.000000e-07 reg 2.500000e+04 train accuracy: 0.210082 val accuracy: 0.224000\n",
      "lr 1.000000e-07 reg 5.000000e+04 train accuracy: 0.243510 val accuracy: 0.266000\n",
      "lr 5.000000e-07 reg 2.500000e+04 train accuracy: 0.245184 val accuracy: 0.257000\n",
      "lr 5.000000e-07 reg 5.000000e+04 train accuracy: 0.248551 val accuracy: 0.258000\n",
      "best validation accuracy achieved during cross-validation: 0.266000\n"
     ]
    }
   ],
   "source": [
    "# Use the validation set to tune hyperparameters (regularization strength and\n",
    "# learning rate). You should experiment with different ranges for the learning\n",
    "# rates and regularization strengths; if you are careful you should be able to\n",
    "# get a classification accuracy of over 0.35 on the validation set.\n",
    "from cs231n.classifiers import Softmax\n",
    "results = {}\n",
    "best_val = -1\n",
    "best_softmax = None\n",
    "learning_rates = [1e-7, 5e-7]\n",
    "regularization_strengths = [2.5e4, 5e4]\n",
    "\n",
    "################################################################################\n",
    "# TODO:                                                                        #\n",
    "# Use the validation set to set the learning rate and regularization strength. #\n",
    "# This should be identical to the validation that you did for the SVM; save    #\n",
    "# the best trained softmax classifer in best_softmax.                          #\n",
    "################################################################################\n",
    "for lr in learning_rates:\n",
    "    for reg in regularization_strengths:\n",
    "        \n",
    "        tic = time.time()\n",
    "        print('\\nInitializing Softmax(lr = %s, reg = %s)' % (lr,reg))\n",
    "        softmax = Softmax()\n",
    "        loss_hist = softmax.train(X_train, y_train, learning_rate=lr, reg=reg,\n",
    "                      num_iters=1200, verbose=True)\n",
    "        toc = time.time()\n",
    "        print('run time: %fs' % (toc - tic))\n",
    "        \n",
    "        # evaluate train, validation accuracies\n",
    "        y_train_pred = softmax.predict(X_train)\n",
    "        train_acc = np.mean(y_train == y_train_pred)\n",
    "        print('training accuracy: %f' % (train_acc, ))\n",
    "        \n",
    "        y_val_pred = softmax.predict(X_val)\n",
    "        val_acc = np.mean(y_val == y_val_pred)\n",
    "        print('validation accuracy: %f' % (val_acc, ))\n",
    "            \n",
    "        # store results\n",
    "        results[(lr, reg)] = (train_acc, val_acc)\n",
    "        \n",
    "        # store bests\n",
    "        if val_acc > best_val:\n",
    "            best_val = val_acc\n",
    "            best_softmax = softmax\n",
    "\n",
    "################################################################################\n",
    "#                              END OF YOUR CODE                                #\n",
    "################################################################################\n",
    "    \n",
    "# Print out results.\n",
    "for lr, reg in sorted(results):\n",
    "    train_accuracy, val_accuracy = results[(lr, reg)]\n",
    "    print('lr %e reg %e train accuracy: %f val accuracy: %f' % (\n",
    "                lr, reg, train_accuracy, val_accuracy))\n",
    "    \n",
    "print('best validation accuracy achieved during cross-validation: %f' % best_val)"
   ]
  },
  {
   "cell_type": "code",
   "execution_count": 21,
   "metadata": {
    "collapsed": false
   },
   "outputs": [
    {
     "name": "stdout",
     "output_type": "stream",
     "text": [
      "softmax on raw pixels final test set accuracy: 0.263000\n"
     ]
    }
   ],
   "source": [
    "# evaluate on test set\n",
    "# Evaluate the best softmax on test set\n",
    "y_test_pred = best_softmax.predict(X_test)\n",
    "test_accuracy = np.mean(y_test == y_test_pred)\n",
    "print('softmax on raw pixels final test set accuracy: %f' % (test_accuracy, ))"
   ]
  },
  {
   "cell_type": "code",
   "execution_count": 22,
   "metadata": {
    "collapsed": false
   },
   "outputs": [
    {
     "data": {
      "image/png": "[encoded data removed]",
      "text/plain": [
       "<matplotlib.figure.Figure at 0x7f1bf0914fd0>"
      ]
     },
     "metadata": {},
     "output_type": "display_data"
    }
   ],
   "source": [
    "# Visualize the learned weights for each class\n",
    "w = best_softmax.W[:-1,:] # strip out the bias\n",
    "w = w.reshape(32, 32, 3, 10)\n",
    "\n",
    "w_min, w_max = np.min(w), np.max(w)\n",
    "\n",
    "classes = ['plane', 'car', 'bird', 'cat', 'deer', 'dog', 'frog', 'horse', 'ship', 'truck']\n",
    "for i in range(10):\n",
    "    plt.subplot(2, 5, i + 1)\n",
    "    \n",
    "    # Rescale the weights to be between 0 and 255\n",
    "    wimg = 255.0 * (w[:, :, :, i].squeeze() - w_min) / (w_max - w_min)\n",
    "    plt.imshow(wimg.astype('uint8'))\n",
    "    plt.axis('off')\n",
    "    plt.title(classes[i])"
   ]
  },
  {
   "cell_type": "code",
   "execution_count": null,
   "metadata": {
    "collapsed": true
   },
   "outputs": [],
   "source": []
  }
 ],
 "metadata": {
  "kernelspec": {
   "display_name": "Python 2",
   "language": "python",
   "name": "python2"
  },
  "language_info": {
   "codemirror_mode": {
    "name": "ipython",
    "version": 2
   },
   "file_extension": ".py",
   "mimetype": "text/x-python",
   "name": "python",
   "nbconvert_exporter": "python",
   "pygments_lexer": "ipython2",
   "version": "2.7.12"
  }
 },
 "nbformat": 4,
 "nbformat_minor": 0
}
