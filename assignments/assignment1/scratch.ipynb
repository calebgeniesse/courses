{
 "cells": [
  {
   "cell_type": "code",
   "execution_count": 43,
   "metadata": {
    "collapsed": false
   },
   "outputs": [
    {
     "name": "stdout",
     "output_type": "stream",
     "text": [
      "(4, 3)\n",
      "[[ -7.  13.  11.]\n",
      " [ 13.  -7.  11.]\n",
      " [ 11.  -7.  13.]\n",
      " [ 11.  13.  -7.]]\n",
      "\n",
      "[1 0 2 1]\n",
      "[step 1] example = 0 correct_class = 1\n",
      "[step 2]        [ -7.  13.  11.] - 13.0 + 10  = [-10.  10.   8.]\n",
      "[step 3] max(0, [ -7.  13.  11.] - 13.0 + 10) = [  0.  10.   8.]\n",
      "[step 4] margins[y_i = 1] = 0.0               = [ 0.  0.  8.]\n",
      "[step 5] L_i = sum(margins = [ 0.  0.  8.])   = 8.0\n",
      "\n",
      "[step 1] example = 1 correct_class = 0\n",
      "[step 2]        [ 13.  -7.  11.] - 13.0 + 10  = [ 10. -10.   8.]\n",
      "[step 3] max(0, [ 13.  -7.  11.] - 13.0 + 10) = [ 10.   0.   8.]\n",
      "[step 4] margins[y_i = 0] = 0.0               = [ 0.  0.  8.]\n",
      "[step 5] L_i = sum(margins = [ 0.  0.  8.])   = 8.0\n",
      "\n",
      "[step 1] example = 2 correct_class = 2\n",
      "[step 2]        [ 11.  -7.  13.] - 13.0 + 10  = [  8. -10.  10.]\n",
      "[step 3] max(0, [ 11.  -7.  13.] - 13.0 + 10) = [  8.   0.  10.]\n",
      "[step 4] margins[y_i = 2] = 0.0               = [ 8.  0.  0.]\n",
      "[step 5] L_i = sum(margins = [ 8.  0.  0.])   = 8.0\n",
      "\n",
      "[step 1] example = 3 correct_class = 1\n",
      "[step 2]        [ 11.  13.  -7.] - 13.0 + 10  = [  8.  10. -10.]\n",
      "[step 3] max(0, [ 11.  13.  -7.] - 13.0 + 10) = [  8.  10.   0.]\n",
      "[step 4] margins[y_i = 1] = 0.0               = [ 8.  0.  0.]\n",
      "[step 5] L_i = sum(margins = [ 8.  0.  0.])   = 8.0\n",
      "\n"
     ]
    }
   ],
   "source": [
    "import numpy as np\n",
    "\n",
    "scores = np.array([[-7., 13., 11.], [13., -7., 11.], [11., -7, 13.], [11., 13., -7.]])\n",
    "print scores.shape\n",
    "print scores\n",
    "print\n",
    "\n",
    "y = np.array([list(_).index(13) for _ in scores])\n",
    "print y\n",
    "for i, y_i in enumerate(y):\n",
    "    print '[step 1]', \"example =\",i, \"correct_class =\", y_i\n",
    "    scores_y = scores[i, y_i]\n",
    "    print '[step 2]        {} - {} + 10  = {}'.format(scores[i], scores_y, scores[i] - scores_y + 10)\n",
    "    margins = np.maximum(0, scores[i] - scores_y + 10)\n",
    "    print \"[step 3] max(0, {} - {} + 10) = {}\".format(scores[i], scores_y, margins)\n",
    "    margins[y_i] = 0.0\n",
    "                                             \n",
    "    print '[step 4] margins[y_i = {}] = 0.0               = {}'.format(y_i, margins)\n",
    "    L_i = margins\n",
    "    print '[step 5] L_i = sum(margins = {})   = {}'.format(L_i, np.sum(L_i))\n",
    "    print\n",
    " \n",
    " "
   ]
  },
  {
   "cell_type": "code",
   "execution_count": 118,
   "metadata": {
    "collapsed": false
   },
   "outputs": [
    {
     "name": "stdout",
     "output_type": "stream",
     "text": [
      "(step 1)\n",
      "                      scores = [[ -7.  13.  11.]\n",
      "                                [ 13.  -7.  11.]\n",
      "                                [ 11.  -7.  13.]\n",
      "                                [ 11.  13.  -7.]]\n",
      "scores[[0 1 2 3], [1 0 2 1]] = [ 13.  13.  13.  13.]\n",
      "\n",
      "[[ 13.]\n",
      " [ 13.]\n",
      " [ 13.]\n",
      " [ 13.]]\n",
      "(step 2)\n",
      "[[ -7.  13.  11.]\n",
      " [ 13.  -7.  11.]\n",
      " [ 11.  -7.  13.]\n",
      " [ 11.  13.  -7.]] - [[13.0], [13.0], [13.0], [13.0]]     \n",
      "==========\n",
      "\n",
      "(step 2)\n",
      "[[-20.   0.  -2.]\n",
      " [  0. -20.  -2.]\n",
      " [ -2. -20.   0.]\n",
      " [ -2.   0. -20.]] + 10\n",
      "==========\n",
      "\n",
      "(step 3) max(0.0,\n",
      "[[-10.  10.   8.]\n",
      " [ 10. -10.   8.]\n",
      " [  8. -10.  10.]\n",
      " [  8.  10. -10.]]\n",
      "==========\n",
      "[[  0.  10.   8.]\n",
      " [ 10.   0.   8.]\n",
      " [  8.   0.  10.]\n",
      " [  8.  10.   0.]]\n",
      "\n",
      "[[0 1 2 3]]\n",
      "(step 4) margins[y] = 0.0               = [[ 0.  0.  8.]\n",
      " [ 0.  0.  8.]\n",
      " [ 8.  0.  0.]\n",
      " [ 8.  0.  0.]]\n",
      "(step 5) np.sum([[ 0.  0.  8.]\n",
      " [ 0.  0.  8.]\n",
      " [ 8.  0.  0.]\n",
      " [ 8.  0.  0.]], axis = 1)       = [ 8.  8.  8.  8.]\n",
      "(step 6) np.sum([ 8.  8.  8.  8.])              = \n",
      "\n",
      "32.0\n",
      "\n",
      "\n",
      "\n"
     ]
    }
   ],
   "source": [
    "import numpy as np\n",
    "\n",
    "scores = np.array([[-7., 13., 11.], [13., -7., 11.], [11., -7, 13.], [11., 13., -7.]])\n",
    "#print scores.shape\n",
    "#print scores\n",
    "#print\n",
    "y = np.array([list(_).index(13) for _ in scores])\n",
    "\n",
    "\n",
    "\n",
    "print \"(step 1)\"\n",
    "print '\\n                               '.join(\"                      scores = {}\".format(scores).split('\\n'))\n",
    "#print '\\n            '.join(\"        y = {}\".format(y).split('\\n'))\n",
    "print '\\n            '.join(\"scores[{}, {}] = {}\".format( np.arange(y.shape[0]), y, scores[np.arange(y.shape[0]), y]).split('\\n'))\n",
    "print\n",
    "\n",
    "print scores[np.arange(y.shape[0]), [y]].T\n",
    "\n",
    "margin = scores - scores[np.arange(y.shape[0]), y].reshape((4,1))\n",
    "margin = scores - scores[np.indices(y.shape), y].reshape((-1,1))\n",
    "\n",
    "print '(step 2)\\n{} - {}     \\n=========='.format(scores, list(map(list, scores[np.indices(y.shape), y].T)), margin)\n",
    "print\n",
    "\n",
    "\n",
    "margin = margin + 10\n",
    "print '(step 2)\\n{} + 10\\n=========='.format(margin - 10, margin)\n",
    "print\n",
    "\n",
    "#margin = scores - scores[np.arange(y.shape[0]), y].reshape((4,1)) + 10\n",
    "#print '(step 2)\\n{} - {} + 10\\n==========\\n{}'.format(scores, scores[np.arange(y.shape[0]), y], margin)\n",
    "#print\n",
    "\n",
    "\n",
    "print '(step 3) max(0.0,\\n{}\\n==========\\n{}'.format(margin, np.maximum(0.0, margin))\n",
    "print\n",
    "margin = np.maximum(0.0, margin)\n",
    "\n",
    "print np.indices(y.shape)\n",
    "margin[np.indices(y.shape), y] = 0\n",
    "print '(step 4) margins[y] = 0.0               = {}'.format(margin)\n",
    "Losses = np.sum(margin, axis=1)\n",
    "print '(step 5) np.sum({}, axis = 1)       = {}'.format(margin, Losses) \n",
    "Loss = np.sum(Losses)\n",
    "print '(step 6) np.sum({})              = '.format(Losses, Loss)\n",
    "print\n",
    "\n",
    "\n",
    "\n",
    "print np.sum(margin)\n",
    "print\n",
    "print\n",
    "print\n",
    "\n"
   ]
  },
  {
   "cell_type": "code",
   "execution_count": 129,
   "metadata": {
    "collapsed": false,
    "scrolled": true
   },
   "outputs": [
    {
     "name": "stdout",
     "output_type": "stream",
     "text": [
      "[[[0 0 0]\n",
      "  [1 1 1]\n",
      "  [2 2 2]\n",
      "  [3 3 3]]\n",
      "\n",
      " [[0 1 2]\n",
      "  [0 1 2]\n",
      "  [0 1 2]\n",
      "  [0 1 2]]]\n",
      "[[0 1 2 3]]\n",
      "[0 1 2 3]\n",
      "[[0 0 0]\n",
      " [1 1 1]\n",
      " [2 2 2]\n",
      " [3 3 3]] [[0 1 2]\n",
      " [0 1 2]\n",
      " [0 1 2]\n",
      " [0 1 2]]\n",
      "\n",
      "\n",
      "[]\n",
      "[ 13.  13.  13.  13.]\n",
      "[ 13.  13.  13.  13.]\n",
      "[0 1 2 3]\n",
      "(4, 3)\n",
      "[]\n",
      "\n",
      "\n"
     ]
    }
   ],
   "source": [
    "import numpy as np\n",
    "\n",
    "X = np.array([range(_,_+3) for _ in range(5)])\n",
    "\n",
    "scores = np.array([[-7., 13., 11.], [13., -7., 11.], [11., -7, 13.], [11., 13., -7.]])\n",
    "#print scores.shape\n",
    "#print scores\n",
    "#print\n",
    "y = np.array([list(_).index(13) for _ in scores])\n",
    "\n",
    "print np.indices(scores.shape)\n",
    "print np.indices((scores.shape[0], ))\n",
    "print np.arange(scores.shape[0])\n",
    "\n",
    "row, col = np.indices(scores.shape)\n",
    "print row, col\n",
    "\n",
    "print\n",
    "print\n",
    "print scores[np.indices(y), y]\n",
    "print scores[np.indices(y.shape)[0], y].T\n",
    "print scores[np.arange(*y.shape), y]\n",
    "print np.arange(scores.shape[0])\n",
    "print scores.shape\n",
    "print np.arange(*scores.shape)\n",
    "#print np.arange(y.shape)\n",
    "#print scores[np.indices(y.shape), y].reshape((-1,1))\n",
    "\n",
    "#print scores.shape\n",
    "#print scores[0:-1, y]\n",
    "\n",
    "#print scores[np.arange(y.shape[0]), y]\n",
    "#print\n",
    "\n",
    "print\n",
    "\n",
    "print\n",
    "#print np.indices(y.shape)\n",
    "#print np.indices((y.shape[0],))\n",
    "#print np.arange(y.shape[0])\n"
   ]
  },
  {
   "cell_type": "code",
   "execution_count": 138,
   "metadata": {
    "collapsed": false
   },
   "outputs": [
    {
     "name": "stdout",
     "output_type": "stream",
     "text": [
      "[[ 0  1  3]\n",
      " [ 1  2  4]\n",
      " [ 2  3  5]\n",
      " [ 3  4  6]\n",
      " [ 4  5  7]\n",
      " [ 5  6  8]\n",
      " [ 6  7  9]\n",
      " [ 7  8 10]\n",
      " [ 8  9 11]\n",
      " [ 9 10 12]]\n",
      "[1 0 1 2 1 0 1 0 1 2]\n"
     ]
    }
   ],
   "source": [
    "import numpy as np\n",
    "\n",
    "X = np.array([[_, _+1, _+3] for _ in range(10)])\n",
    "y = [_ for _ in range(10)]\n",
    "y = [1 if _%2==0 else 2 if _%3==0 else 0 for _ in y]\n",
    "y = np.array(y)\n",
    "print X\n",
    "print y\n",
    "\n"
   ]
  },
  {
   "cell_type": "code",
   "execution_count": 153,
   "metadata": {
    "collapsed": false
   },
   "outputs": [
    {
     "name": "stdout",
     "output_type": "stream",
     "text": [
      "(15, 2)\n",
      "(15,)\n"
     ]
    },
    {
     "data": {
      "image/png": "[encoded data removed]",
      "text/plain": [
       "<matplotlib.figure.Figure at 0x7fa1176c3750>"
      ]
     },
     "metadata": {},
     "output_type": "display_data"
    }
   ],
   "source": [
    "import matplotlib.pyplot as plt\n",
    "%matplotlib inline\n",
    "import numpy as np\n",
    "\n",
    "N = 5 # number of points per class\n",
    "D = 2 # dimensionality\n",
    "K = 3 # number of classes\n",
    "X = np.zeros((N*K,D)) # data matrix (each row = single example)\n",
    "y = np.zeros(N*K, dtype='uint8') # class labels\n",
    "for j in xrange(K):\n",
    "  ix = range(N*j,N*(j+1))\n",
    "  r = np.linspace(0.0,1,N) # radius\n",
    "  t = np.linspace(j*4,(j+1)*4,N) + np.random.randn(N)*0.2 # theta\n",
    "  X[ix] = np.c_[r*np.sin(t), r*np.cos(t)]\n",
    "  y[ix] = j\n",
    "# lets visualize the data:\n",
    "plt.scatter(X[:, 0], X[:, 1], c=y, s=40, cmap=plt.cm.Spectral)\n",
    "\n",
    "\n",
    "print X.shape\n",
    "print y.shape"
   ]
  },
  {
   "cell_type": "code",
   "execution_count": 163,
   "metadata": {
    "collapsed": false
   },
   "outputs": [
    {
     "name": "stdout",
     "output_type": "stream",
     "text": [
      "[[ 0.          0.        ]\n",
      " [ 0.22710769  0.10450883]\n",
      " [ 0.44835349 -0.22131234]\n",
      " [ 0.0933295  -0.74417041]\n",
      " [-0.8030315  -0.59593659]\n",
      " [-0.         -0.        ]\n",
      " [-0.24661832  0.04098052]\n",
      " [-0.14567402  0.47830856]\n",
      " [ 0.70596619  0.25320297]\n",
      " [ 0.98432195  0.17638113]\n",
      " [ 0.          0.        ]\n",
      " [ 0.09819421 -0.22990845]\n",
      " [-0.15240656 -0.47620609]\n",
      " [-0.74555634 -0.08152139]\n",
      " [-0.43389288  0.90096446]]\n",
      "[0 0 0 0 0 1 1 1 1 1 2 2 2 2 2]\n",
      "[[ -4.4278311    1.17059439  23.31250626]\n",
      " [ -3.26434291   7.1328253    4.18740504]]\n",
      "(2, 3)\n",
      "(15, 2)\n",
      "(15,)\n",
      "[[ 0.  0.  0.]\n",
      " [ 0.  0.  0.]]\n",
      "[[ 0.  0.  0.]\n",
      " [ 0.  0.  0.]]\n",
      "[[-0.22710769  0.22710769  0.        ]\n",
      " [-0.10450883  0.10450883  0.        ]]\n",
      "[[-0.45421539  0.22710769  0.22710769]\n",
      " [-0.20901765  0.10450883  0.10450883]]\n",
      "[[-0.90256888  0.67546118  0.22710769]\n",
      " [ 0.01229469 -0.11680351  0.10450883]]\n",
      "[[-1.35092236  0.67546118  0.67546118]\n",
      " [ 0.23360702 -0.11680351 -0.11680351]]\n",
      "[[-1.44425187  0.67546118  0.76879069]\n",
      " [ 0.97777744 -0.11680351 -0.86097393]]\n",
      "[[-1.44425187  0.67546118  0.76879069]\n",
      " [ 0.97777744 -0.11680351 -0.86097393]]\n",
      "[[-1.44425187  0.67546118  0.76879069]\n",
      " [ 0.97777744 -0.11680351 -0.86097393]]\n",
      "[[-1.69087019  0.9220795   0.76879069]\n",
      " [ 1.01875796 -0.15778404 -0.86097393]]\n",
      "[[-1.83654421  1.06775352  0.76879069]\n",
      " [ 1.49706652 -0.6360926  -0.86097393]]\n",
      "[[-1.83654421  1.21342754  0.62311666]\n",
      " [ 1.49706652 -1.11440116 -0.38266536]]\n",
      "[[-1.83654421  0.50746136  1.32908285]\n",
      " [ 1.49706652 -1.36760413 -0.12946239]]\n",
      "[[-1.83654421 -0.47686059  2.3134048 ]\n",
      " [ 1.49706652 -1.54398526  0.04691874]]\n",
      "[[-1.83654421 -0.47686059  2.3134048 ]\n",
      " [ 1.49706652 -1.54398526  0.04691874]]\n",
      "[[-1.83654421 -0.47686059  2.3134048 ]\n",
      " [ 1.49706652 -1.54398526  0.04691874]]\n",
      "[[-1.73835    -0.47686059  2.21521059]\n",
      " [ 1.26715807 -1.54398526  0.27682719]]\n",
      "[[-1.73835    -0.37866638  2.11701638]\n",
      " [ 1.26715807 -1.77389371  0.50673565]]\n",
      "[[-1.89075656 -0.37866638  2.26942294]\n",
      " [ 0.79095198 -1.77389371  0.98294174]]\n",
      "[[-1.89075656 -0.53107294  2.42182949]\n",
      " [ 0.79095198 -2.25009981  1.45914783]]\n",
      "[[-2.6363129  -0.53107294  3.16738584]\n",
      " [ 0.70943058 -2.25009981  1.54066922]]\n",
      "[[-2.6363129  -1.27662928  3.91294218]\n",
      " [ 0.70943058 -2.3316212   1.62219062]]\n",
      "[[-3.07020578 -1.27662928  4.34683506]\n",
      " [ 1.61039505 -2.3316212   0.72122615]]\n",
      "[[-3.07020578 -1.71052216  4.78072795]\n",
      " [ 1.61039505 -1.43065674 -0.17973831]]\n",
      "15.1219087918\n",
      "[[-0.20468039 -0.11403481  0.3187152 ]\n",
      " [ 0.10735967 -0.09537712 -0.01198255]]\n"
     ]
    }
   ],
   "source": [
    "def svm_loss(W, X, y, reg):\n",
    "    dW = np.zeros(W.shape)\n",
    "    dW = np.zeros(W.shape) # initialize the gradient as zero                                                 \n",
    "\n",
    "    # compute the loss and the gradient                                                                      \n",
    "    num_classes = W.shape[1]\n",
    "    num_train = X.shape[0]\n",
    "    loss = 0.0\n",
    "\n",
    "     \n",
    "    for i in xrange(num_train):\n",
    "        scores = X[i].dot(W)\n",
    "        correct_class_score = scores[y[i]]\n",
    "        for j in xrange(num_classes):\n",
    "            if j == y[i]:\n",
    "                continue\n",
    "            margin = scores[j] - correct_class_score + 5 # note delta = 1                                        \n",
    "            #print\n",
    "            #print \"i={}, j={}, y[i]={}, loss={}, margin={}, loss+margin={}\".format(\n",
    "            #        i, j, y[i], loss - margin, margin, loss)\n",
    "            #print scores[j], '-', correct_class_score, '=', margin - 5, '+ 10 =', margin\n",
    "            if margin > 0:\n",
    "                loss += margin\n",
    "\n",
    "                # accumulate the gradient w.r.t the i-th example, j-th class                                       \n",
    "               \n",
    "                #print dW[:, j],'+', X[i], '=',\n",
    "                dW[np.arange(W.shape[0]), j] += X[i]\n",
    "                #print dW[np.arange(W.shape[0]), j]\n",
    "\n",
    "\n",
    "                #print dW[:, y[i]], '-', X[i], '=',          \n",
    "                dW[np.arange(W.shape[0]), y[i]] -= X[i]\n",
    "                #print dW[np.arange(W.shape[0]), y[i]]\n",
    "                \n",
    "                print dW\n",
    "\n",
    "    # Right now the loss is a sum over all training examples, but we want it                                 \n",
    "    # to be an average instead so we divide by num_train.                                                    \n",
    "    loss /= num_train\n",
    "\n",
    "    # Add regularization to the loss.                                                                        \n",
    "    loss += reg * np.sum(W * W)\n",
    "    # Convert accumulated gradient to average                                                                \n",
    "    dW /= num_train\n",
    "\n",
    "    # add regulation gradient                                                                                \n",
    "    dW += 2.0 * reg * W\n",
    "\n",
    "    return loss, dW\n",
    "\n",
    "\n",
    "#W = np.random.randn((N, D))\n",
    "W = np.random.randn(D, K) * 10\n",
    "print X\n",
    "print y\n",
    "print W\n",
    "print W.shape\n",
    "print X.shape\n",
    "print y.shape\n",
    "loss, dw = svm_loss(W, X, y, 0.0)\n",
    "print loss\n",
    "print dw"
   ]
  },
  {
   "cell_type": "code",
   "execution_count": 168,
   "metadata": {
    "collapsed": false
   },
   "outputs": [
    {
     "name": "stdout",
     "output_type": "stream",
     "text": [
      "[[ 0.          0.        ]\n",
      " [ 0.22710769  0.10450883]\n",
      " [ 0.44835349 -0.22131234]\n",
      " [ 0.0933295  -0.74417041]\n",
      " [-0.8030315  -0.59593659]\n",
      " [-0.         -0.        ]\n",
      " [-0.24661832  0.04098052]\n",
      " [-0.14567402  0.47830856]\n",
      " [ 0.70596619  0.25320297]\n",
      " [ 0.98432195  0.17638113]\n",
      " [ 0.          0.        ]\n",
      " [ 0.09819421 -0.22990845]\n",
      " [-0.15240656 -0.47620609]\n",
      " [-0.74555634 -0.08152139]\n",
      " [-0.43389288  0.90096446]]\n",
      "\n",
      "[0 0 0 0 0 1 1 1 1 1 2 2 2 2 2]\n",
      "\n",
      "[[-0.20468039 -0.11403481  0.3187152 ]\n",
      " [ 0.10735967 -0.09537712 -0.01198255]]\n"
     ]
    }
   ],
   "source": [
    "print X\n",
    "print \n",
    "print y\n",
    "print \n",
    "print dw"
   ]
  },
  {
   "cell_type": "code",
   "execution_count": 302,
   "metadata": {
    "collapsed": false
   },
   "outputs": [
    {
     "name": "stdout",
     "output_type": "stream",
     "text": [
      "\n",
      "[  0.           0.           1.0112942    5.73207035  -1.05374217\n",
      "   9.52551905  -5.19878656  -0.94039829  -5.19073572 -21.21610467   0.           0.\n",
      "   0.95820979  -5.57768912  -0.9163432   -1.39315484  -3.95244035\n",
      "  17.51810452  -4.93417983  23.6855908    0.           0.           0.31571266\n",
      "  -1.52495125   2.22933047  -3.57510112   3.56731135  -1.45422194\n",
      "  -1.01985255   5.91850955]\n",
      "(30,)\n",
      "(15,)\n",
      "[[  0.00000000e+00   0.00000000e+00   0.00000000e+00]\n",
      " [ -1.34674716e+00   1.01129420e+00   5.73207035e+00]\n",
      " [ -1.26279415e+00  -1.05374217e+00   9.52551905e+00]\n",
      " [  2.01598013e+00  -5.19878656e+00  -9.40398288e-01]\n",
      " [  5.50102920e+00  -5.19073572e+00  -2.12161047e+01]\n",
      " [  0.00000000e+00   0.00000000e+00   0.00000000e+00]\n",
      " [  9.58209795e-01   3.61688961e-03  -5.57768912e+00]\n",
      " [ -9.16343200e-01   3.24116622e+00  -1.39315484e+00]\n",
      " [ -3.95244035e+00   2.63245261e+00   1.75181045e+01]\n",
      " [ -4.93417983e+00   2.41033755e+00   2.36855908e+01]\n",
      " [  0.00000000e+00   0.00000000e+00   0.00000000e+00]\n",
      " [  3.15712656e-01  -1.52495125e+00   1.32643331e+00]\n",
      " [  2.22933047e+00  -3.57510112e+00  -5.54704658e+00]\n",
      " [  3.56731135e+00  -1.45422194e+00  -1.77221500e+01]\n",
      " [ -1.01985255e+00   5.91850955e+00  -6.34242744e+00]]\n",
      "[[  0.00000000e+00]\n",
      " [ -1.34674716e+00]\n",
      " [ -1.26279415e+00]\n",
      " [  2.01598013e+00]\n",
      " [  5.50102920e+00]\n",
      " [  0.00000000e+00]\n",
      " [  3.61688961e-03]\n",
      " [  3.24116622e+00]\n",
      " [  2.63245261e+00]\n",
      " [  2.41033755e+00]\n",
      " [  0.00000000e+00]\n",
      " [  1.32643331e+00]\n",
      " [ -5.54704658e+00]\n",
      " [ -1.77221500e+01]\n",
      " [ -6.34242744e+00]]\n",
      "[[  0.           1.           1.        ]\n",
      " [  0.           3.35804136   8.07881751]\n",
      " [  0.           1.20905197  11.7883132 ]\n",
      " [  0.           0.           0.        ]\n",
      " [  0.           0.           0.        ]\n",
      " [  1.           0.           1.        ]\n",
      " [  1.9545929    0.           0.        ]\n",
      " [  0.           0.           0.        ]\n",
      " [  0.           0.          15.88565191]\n",
      " [  0.           0.          22.27525325]\n",
      " [  1.           1.           0.        ]\n",
      " [  0.           0.           0.        ]\n",
      " [  8.77637705   2.97194547   0.        ]\n",
      " [ 22.28946139  17.26792809   0.        ]\n",
      " [  6.32257488  13.26093699   0.        ]]\n",
      "[[  0.           1.           1.        ]\n",
      " [  0.           3.35804136   8.07881751]\n",
      " [  0.           1.20905197  11.7883132 ]\n",
      " [  0.           0.           0.        ]\n",
      " [  0.           0.           0.        ]\n",
      " [  1.           0.           1.        ]\n",
      " [  1.9545929    0.           0.        ]\n",
      " [  0.           0.           0.        ]\n",
      " [  0.           0.          15.88565191]\n",
      " [  0.           0.          22.27525325]\n",
      " [  1.           1.           0.        ]\n",
      " [  0.           0.           0.        ]\n",
      " [  8.77637705   2.97194547   0.        ]\n",
      " [ 22.28946139  17.26792809   0.        ]\n",
      " [  6.32257488  13.26093699   0.        ]]\n",
      "141.438945969\n",
      "[ 41.34300623  40.06790388  60.02803587]\n",
      "[  2.          11.43685887  12.99736517   0.           0.           2.\n",
      "   1.9545929    0.          15.88565191  22.27525325   2.           0.\n",
      "  11.74832252  39.55738948  19.58351187]\n"
     ]
    }
   ],
   "source": [
    "dw2 = dw.copy()\n",
    "#print y == 1\n",
    "#print dw\n",
    "#print\n",
    "#print dw[:, y]\n",
    "#print\n",
    "#print dw[:, y[y==1]]\n",
    "#print\n",
    "dw2 = np.zeros((dw.shape))\n",
    "#print dw2\n",
    "print\n",
    "#print X\n",
    "sc = X.dot(W)\n",
    "mask_y = (np.arange(sc.shape[1]) == y.reshape((-1,1)))\n",
    "mask_j = (np.arange(sc.shape[1]) != y.reshape((-1,1)))\n",
    "#print mask_j\n",
    "#print mask_y\n",
    "print sc[(np.arange(sc.shape[1]) != y.reshape((-1,1)))]\n",
    "print sc[mask_j].shape\n",
    "print sc[mask_y].shape\n",
    "\n",
    "margins = np.maximum(0, sc - sc[mask_y].reshape((-1,1)) + 1)\n",
    "margins[mask_y] = 0\n",
    "print sc\n",
    "print sc[mask_y].reshape((-1,1))\n",
    "print margins\n",
    "margins[mask_y] = 0\n",
    "print margins\n",
    "print np.sum(margins)\n",
    "print np.sum(margins, axis=0)\n",
    "print np.sum(margins, axis=1)\n",
    "#print np.sum(margins[mask_y])\n",
    "#print np.sum(margins[mask_y], axis=0)\n",
    "#print np.sum(margins[mask_y], axis=1)\n"
   ]
  },
  {
   "cell_type": "code",
   "execution_count": 305,
   "metadata": {
    "collapsed": false
   },
   "outputs": [
    {
     "name": "stdout",
     "output_type": "stream",
     "text": [
      "[[  0.          -1.          -1.        ]\n",
      " [  0.          -1.33545296   3.38532319]\n",
      " [  0.          -3.31653632   7.2627249 ]\n",
      " [  0.           2.03196026   2.03196026]\n",
      " [  0.           9.00205841   9.00205841]\n",
      " [ -1.           0.          -1.        ]\n",
      " [ -0.03817332   0.          -1.99276622]\n",
      " [  4.48233243   0.           4.48233243]\n",
      " [  3.26490522   0.          19.15055713]\n",
      " [  2.8206751    0.          25.09592835]\n",
      " [ -1.          -1.           0.        ]\n",
      " [  0.65286661   0.65286661   0.        ]\n",
      " [ -4.31771612 -10.1221477    0.        ]\n",
      " [-15.15483868 -20.17637197   0.        ]\n",
      " [ -8.36227999  -1.42391789   0.        ]]\n",
      "[[ 0.          0.22710769  0.44835349  0.0933295  -0.8030315  -0.\n",
      "  -0.24661832 -0.14567402  0.70596619  0.98432195  0.          0.09819421\n",
      "  -0.15240656 -0.74555634 -0.43389288]\n",
      " [ 0.          0.10450883 -0.22131234 -0.74417041 -0.59593659 -0.\n",
      "   0.04098052  0.47830856  0.25320297  0.17638113  0.         -0.22990845\n",
      "  -0.47620609 -0.08152139  0.90096446]]\n",
      "[[0 0 0]\n",
      " [0 0 1]\n",
      " [0 0 1]\n",
      " [0 1 1]\n",
      " [0 1 1]\n",
      " [0 0 0]\n",
      " [0 0 0]\n",
      " [1 0 1]\n",
      " [1 0 1]\n",
      " [1 0 1]\n",
      " [0 0 0]\n",
      " [1 1 0]\n",
      " [0 0 0]\n",
      " [0 0 0]\n",
      " [0 0 0]]\n",
      "\n",
      "[[ 1.64280832 -0.61150778  1.5103733 ]\n",
      " [ 0.67798421 -1.57001545 -0.54901785]]\n"
     ]
    }
   ],
   "source": [
    "dmargins = margins\n",
    "print margins\n",
    "dmargins -= 1\n",
    "\n",
    "dmargins += sc[mask_y].reshape(-1,1)\n",
    "dmargins[mask_y] = 0.0\n",
    "\n",
    "#print X\n",
    "print X.T\n",
    "print (dmargins > 0).astype(int)\n",
    "\n",
    "dw0 = X.T.dot((dmargins > 0).astype(int))\n",
    "print\n",
    "print dw0\n",
    "\n",
    "dw0\n",
    "#print margins\n",
    "#for i,row in enumerate(margins):\n",
    "#    for j in dw2.shape[1]:\n",
    "       # dw2[[0, 1], j] += X[i]\n",
    "#    pass\n",
    "    #y[i]\n",
    "    \n",
    "    #dw2[y[i]] -= X[i]\n",
    "        \n",
    "dw2[:, :] = 0.0\n",
    "\n",
    "#dw2[] = marginnp.sum(X, axis=0)\n",
    "\n",
    "#[0,1,0]] = - [x0, x1] \n",
    "\n",
    "#print dw2\n",
    "#print y\n",
    "dwmask_j = (np.arange(dw2.shape[1]) != np.arange(dw2.shape[0]).reshape((-1,1)))# != y.reshape((-1,1)))\n",
    "dwmask_y = (np.arange(dw2.shape[1]) == np.arange(dw2.shape[0]).reshape((-1,1)))# != y.reshape((-1,1)))\n",
    "\n",
    "#print dwmask_j\n",
    "#print dwmask_y\n",
    "#print dw2[dwmask_j]\n",
    "#print dw2[dwmask_y] \n",
    "\n",
    "#print dmargins[mask_j]\n",
    "\n",
    "#dw2[dwmask_j] = np.sum(dmargins[mask_j].reshape((-1,2)), axis=0).reshape((-1,))\n",
    "#dw2[dwmask_y] = - np.sum(np.sum(dmargins[mask_j].reshape((-1,2)), axis=0))\n",
    "#print dw2\n"
   ]
  },
  {
   "cell_type": "code",
   "execution_count": 205,
   "metadata": {
    "collapsed": false
   },
   "outputs": [
    {
     "name": "stdout",
     "output_type": "stream",
     "text": [
      "[[ True False False]\n",
      " [ True False False]\n",
      " [ True False False]\n",
      " [ True False False]\n",
      " [ True False False]\n",
      " [False  True False]\n",
      " [False  True False]\n",
      " [False  True False]\n",
      " [False  True False]\n",
      " [False  True False]\n",
      " [False False  True]\n",
      " [False False  True]\n",
      " [False False  True]\n",
      " [False False  True]\n",
      " [False False  True]]\n",
      "[[ True]\n",
      " [False]\n",
      " [False]\n",
      " [False]\n",
      " [False]\n",
      " [False]\n",
      " [False]\n",
      " [False]\n",
      " [False]\n",
      " [False]\n",
      " [False]\n",
      " [False]\n",
      " [False]\n",
      " [False]\n",
      " [False]]\n",
      "[[ True False False]\n",
      " [ True False False]\n",
      " [ True False False]\n",
      " [ True False False]\n",
      " [ True False False]\n",
      " [False  True False]\n",
      " [False  True False]\n",
      " [False  True False]\n",
      " [False  True False]\n",
      " [False  True False]\n",
      " [False False  True]\n",
      " [False False  True]\n",
      " [False False  True]\n",
      " [False False  True]\n",
      " [False False  True]]\n"
     ]
    }
   ],
   "source": [
    "print (np.indices(sc.shape)[1] == y.reshape(-1,1))\n",
    "print (np.arange(sc.shape[0]) == y).reshape(-1,1)\n",
    "print (np.arange(sc.shape[1]) == y.reshape(-1,1))"
   ]
  },
  {
   "cell_type": "markdown",
   "metadata": {
    "collapsed": false
   },
   "source": [
    "## Python Tutorial"
   ]
  },
  {
   "cell_type": "code",
   "execution_count": 2,
   "metadata": {
    "collapsed": false
   },
   "outputs": [],
   "source": [
    "# http://cs231n.github.io/python-numpy-tutorial/"
   ]
  },
  {
   "cell_type": "code",
   "execution_count": 27,
   "metadata": {
    "collapsed": false
   },
   "outputs": [
    {
     "name": "stdout",
     "output_type": "stream",
     "text": [
      "Hello HELLO Hello\n",
      "hello        world         world\n",
      "  hello      world      world   \n",
      "     hello   world    world     \n"
     ]
    }
   ],
   "source": [
    "### strings \n",
    "h = \"hello\"\n",
    "w = \"world\"\n",
    "print h.capitalize(), h.upper(), h.title()\n",
    "print h.ljust(10), w.center(10), w.rjust(10)\n",
    "print h.center(10), w.center(10), w.center(10)\n",
    "print h.rjust(10), w.center(10), w.ljust(10)\n"
   ]
  },
  {
   "cell_type": "code",
   "execution_count": 28,
   "metadata": {
    "collapsed": false
   },
   "outputs": [
    {
     "name": "stdout",
     "output_type": "stream",
     "text": [
      "<type 'set'> set(['dog', 'cat'])\n",
      "set(['fish', 'dog', 'cat'])\n",
      "set(['dog', 'cat'])\n",
      "set(['fish'])\n",
      "set(['zebra', 'fish', 'dog', 'cat'])\n",
      "set([0, 1, 2, 3, 4, 5, 6, 7, 8, 9])\n",
      "set([0, 1])\n"
     ]
    }
   ],
   "source": [
    "### sets\n",
    "animals = {'cat', 'dog'}\n",
    "animals2 = {'fish', 'zebra'}\n",
    "print type(animals), animals\n",
    "animals.add('fish')\n",
    "print animals\n",
    "print animals.difference(animals2)\n",
    "print animals.intersection(animals2)\n",
    "print animals.union(animals2)\n",
    "\n",
    "print {_ for _ in range(10)}\n",
    "print {_%2 for _ in range(10)}"
   ]
  },
  {
   "cell_type": "markdown",
   "metadata": {},
   "source": [
    "## Numpy Tutorial"
   ]
  },
  {
   "cell_type": "code",
   "execution_count": 29,
   "metadata": {
    "collapsed": true
   },
   "outputs": [],
   "source": [
    "import numpy as np"
   ]
  },
  {
   "cell_type": "markdown",
   "metadata": {},
   "source": [
    "### Arrays"
   ]
  },
  {
   "cell_type": "code",
   "execution_count": 40,
   "metadata": {
    "collapsed": false
   },
   "outputs": [
    {
     "name": "stdout",
     "output_type": "stream",
     "text": [
      "<type 'numpy.ndarray'> (3,)\n",
      "[1 2 3]\n",
      "<type 'numpy.ndarray'> (2, 3)\n",
      "[[1 2 3]\n",
      " [4 5 6]]\n",
      "1 2 3\n",
      "[1 2 3] [4 5 6]\n",
      "1 2\n",
      "[1 4] [1 3]\n"
     ]
    }
   ],
   "source": [
    "a = np.array([1, 2, 3])\n",
    "b = np.asarray([[1, 2, 3], [4, 5, 6]])\n",
    "print type(a), a.shape\n",
    "print a\n",
    "print type(b), b.shape\n",
    "print b\n",
    "\n",
    "print a[0], a[1], a[2]\n",
    "print b[0], b[1]\n",
    "print b[0, 0], b[0, 1]\n",
    "print b[[0, 1], [0, 0]], b[0, [0, 2]]"
   ]
  },
  {
   "cell_type": "code",
   "execution_count": 45,
   "metadata": {
    "collapsed": false
   },
   "outputs": [
    {
     "name": "stdout",
     "output_type": "stream",
     "text": [
      "[[ 0.  0.]\n",
      " [ 0.  0.]]\n",
      "[[ 1.  1.]\n",
      " [ 1.  1.]]\n",
      "[[ 7.1  7.1]\n",
      " [ 7.1  7.1]]\n",
      "[[ 7.2  7.2]\n",
      " [ 7.2  7.2]]\n",
      "[[ 1.  0.]\n",
      " [ 0.  1.]]\n",
      "[[ 0.55552209  0.81459685]\n",
      " [ 0.75149786  0.43008221]]\n"
     ]
    }
   ],
   "source": [
    "a = np.zeros((2,2))\n",
    "b = np.ones((2,2))\n",
    "c = np.full((2,2), 7.1)\n",
    "c2 = np.ones((2,2)) * 7.2\n",
    "d = np.eye(2)\n",
    "e = np.random.random((2, 2))\n",
    "print a\n",
    "print b\n",
    "print c\n",
    "print c2\n",
    "print d\n",
    "print e"
   ]
  },
  {
   "cell_type": "markdown",
   "metadata": {},
   "source": [
    "### Array Indexing"
   ]
  },
  {
   "cell_type": "code",
   "execution_count": 177,
   "metadata": {
    "collapsed": false
   },
   "outputs": [
    {
     "name": "stdout",
     "output_type": "stream",
     "text": [
      "(3, 4)\n",
      "2\n",
      "(2, 2)\n",
      "77\n"
     ]
    }
   ],
   "source": [
    "a = np.array([[1,2,3,4], [5,6,7,8], [9,10,11,12]])\n",
    "\n",
    "print a.shape\n",
    "print a[0, 1]\n",
    "\n",
    "b = a[:2, 1:3]\n",
    "print b.shape\n",
    "b[0, 0] = 77\n",
    "print a[0, 1]"
   ]
  },
  {
   "cell_type": "code",
   "execution_count": 225,
   "metadata": {
    "collapsed": false
   },
   "outputs": [
    {
     "name": "stdout",
     "output_type": "stream",
     "text": [
      "[[ 1  2  3  4]\n",
      " [ 5  6  7  8]\n",
      " [ 9 10 11 12]\n",
      " [21 22 23 24]\n",
      " [25 26 27 28]\n",
      " [29 30 31 32]]\n",
      "[[[ 1  2  3  4]\n",
      "  [ 5  6  7  8]]\n",
      "\n",
      " [[ 9 10 11 12]\n",
      "  [21 22 23 24]]\n",
      "\n",
      " [[25 26 27 28]\n",
      "  [29 30 31 32]]]\n",
      "\n",
      "[0 1 2]\n",
      "[False  True False]\n",
      "\n",
      "[ True False  True]\n",
      "\n",
      "\n",
      "[[[ 9 10 11 12]\n",
      "  [21 22 23 24]]]\n",
      "\n",
      "[[ 1  2  3  4]\n",
      " [ 5  6  7  8]\n",
      " [25 26 27 28]\n",
      " [29 30 31 32]]\n"
     ]
    }
   ],
   "source": [
    "a = np.array([[1,2,3,4], [5,6,7,8], [9,10,11,12]])\n",
    "a = np.array([a, a + 20]).reshape((6, 4))\n",
    "print a\n",
    "\n",
    "b = np.array(np.array_split(a, 3))\n",
    "inds = np.arange(b.shape[0])\n",
    "print b[inds != 1].reshape((4, -1))\n",
    "\n"
   ]
  },
  {
   "cell_type": "code",
   "execution_count": 62,
   "metadata": {
    "collapsed": false
   },
   "outputs": [
    {
     "name": "stdout",
     "output_type": "stream",
     "text": [
      "[[ 1  2  3  4]\n",
      " [ 5  6  7  8]\n",
      " [ 9 10 11 12]]\n",
      "\n",
      "[[ 2  2  2  2]\n",
      " [ 5  6  7  8]\n",
      " [ 9 10 11 12]]\n",
      "[[ 2  2  2  2]\n",
      " [ 5  6  7  8]\n",
      " [ 9 10 11 12]]\n",
      "\n",
      "[[ 3  3  3  3]\n",
      " [ 5  6  7  8]\n",
      " [ 9 10 11 12]]\n",
      "[[ 3  3  3  3]\n",
      " [ 5  6  7  8]\n",
      " [ 9 10 11 12]]\n",
      "[[ 3  3  3  3]\n",
      " [ 5  6  7  8]\n",
      " [ 9 10 11 12]]\n",
      "(4,) [5 6 7 8]\n",
      "(1, 4) [[5 6 7 8]]\n",
      "\n",
      "(4,) [7 8 6 5]\n",
      "(1, 4) [[7 8 6 5]]\n",
      "\n",
      "(3,)\n",
      "[ 3  8 10]\n",
      "(3, 1)\n",
      "[[ 3]\n",
      " [ 8]\n",
      " [10]]\n"
     ]
    }
   ],
   "source": [
    "def update(x=None, a = None, c=0):\n",
    "    try:\n",
    "        _ = x\n",
    "        _[0] = np.full(_[0].shape, c)\n",
    "    except:\n",
    "        _ = a\n",
    "        _[0] = np.full(_[0].shape, c)\n",
    "    return _\n",
    "    \n",
    "    \n",
    "a = np.array([[1,2,3,4], [5,6,7,8], [9,10,11,12]])\n",
    "print a\n",
    "\n",
    "b = update(x = a, c = 2)\n",
    "print\n",
    "print a\n",
    "print b\n",
    "\n",
    "b2 = update(a = a, c = 3)\n",
    "print\n",
    "print a\n",
    "print b\n",
    "print b2\n",
    "\n",
    "\n",
    "row_rank1 = a[1, :]\n",
    "row_rank2 = a[1:2, :]\n",
    "print row_rank1.shape, row_rank1\n",
    "print row_rank2.shape, row_rank2\n",
    "\n",
    "row_rank1[:] = row_rank1[[2,3,1,0]]\n",
    "print\n",
    "print row_rank1.shape, row_rank1\n",
    "print row_rank2.shape, row_rank2\n",
    "\n",
    "\n",
    "col_rank1 = a[:, 1]\n",
    "col_rank2 = a[:, 1:2]\n",
    "print\n",
    "print col_rank1.shape\n",
    "print col_rank1\n",
    "print col_rank2.shape\n",
    "print col_rank2"
   ]
  },
  {
   "cell_type": "code",
   "execution_count": 67,
   "metadata": {
    "collapsed": false
   },
   "outputs": [
    {
     "name": "stdout",
     "output_type": "stream",
     "text": [
      "[1 4 5]\n",
      "[1 4 5]\n",
      "[2 2]\n",
      "[2, 2]\n",
      "[2 2]\n",
      "[2 2]\n"
     ]
    }
   ],
   "source": [
    "a = np.array([[1,2], [3, 4], [5, 6]])\n",
    "\n",
    "print a[[0,1,2], [0,1,0]]\n",
    "print np.array([a[0,0], a[1,1], a[2,0]])\n",
    "\n",
    "print a[[0,0], [1,1]]\n",
    "print [a[0,1], a[0,1]]\n",
    "print np.array([a[0, 1], a[0,1]])\n",
    "print np.asarray([a[0,1], a[0,1]])"
   ]
  },
  {
   "cell_type": "code",
   "execution_count": 80,
   "metadata": {
    "collapsed": false
   },
   "outputs": [
    {
     "name": "stdout",
     "output_type": "stream",
     "text": [
      "[[ 1  2  3]\n",
      " [ 4  5  6]\n",
      " [ 7  8  9]\n",
      " [10 11 12]]\n",
      "\n",
      "[0 1 2]\n",
      "[1 2 1]\n",
      "\n",
      "[2 6 8]\n",
      "\n",
      "[4 8 6]\n",
      "\n",
      "[2 6 8]\n",
      "[[  1 200   3]\n",
      " [  4   5 600]\n",
      " [  7 800   9]\n",
      " [ 10  11  12]]\n",
      "[[    1   200     3]\n",
      " [  400     5 60000]\n",
      " [    7 80000     9]\n",
      " [   10    11    12]]\n"
     ]
    }
   ],
   "source": [
    "a = np.array([[1,2,3], [4,5,6], [7,8,9], [10, 11, 12]])\n",
    "print a\n",
    "\n",
    "inds0 = np.arange(3)\n",
    "inds1 = np.array([1, 2, 1])\n",
    "print\n",
    "print inds0\n",
    "print inds1\n",
    "\n",
    "print\n",
    "print a[inds0, inds1]\n",
    "print\n",
    "print a[inds1, inds0]\n",
    "print\n",
    "print a[range(3), inds1]\n",
    "\n",
    "a[inds0, inds1] *= 100\n",
    "print a\n",
    "\n",
    "a[inds1, inds0] *= 100\n",
    "print a"
   ]
  },
  {
   "cell_type": "code",
   "execution_count": 104,
   "metadata": {
    "collapsed": false
   },
   "outputs": [
    {
     "name": "stdout",
     "output_type": "stream",
     "text": [
      "[[1 2]\n",
      " [3 4]\n",
      " [5 6]]\n",
      "\n",
      "[[False  True]\n",
      " [ True  True]\n",
      " [ True  True]]\n",
      "[[False  True]\n",
      " [ True  True]\n",
      " [ True  True]]\n",
      "\n",
      "[[False  True]\n",
      " [ True  True]\n",
      " [ True  True]]\n",
      "\n",
      "[2 3 4 5 6]\n",
      "[2 3 4 5 6]\n",
      "\n",
      "all\n",
      "\n",
      "[False  True]\n",
      "\n",
      "[[2]\n",
      " [4]\n",
      " [6]]\n",
      "\n",
      "[False  True  True]\n",
      "\n",
      "[[3 4]\n",
      " [5 6]]\n",
      "\n",
      "any\n",
      "\n",
      "[ True  True]\n",
      "\n",
      "[[1 2]\n",
      " [3 4]\n",
      " [5 6]]\n",
      "\n",
      "[False  True  True]\n",
      "\n",
      "[[3 4]\n",
      " [5 6]]\n"
     ]
    }
   ],
   "source": [
    "a = np.array([[1,2], [3, 4], [5, 6]])\n",
    "print a\n",
    "print\n",
    "print a >= 2\n",
    "print (a >= 2)\n",
    "\n",
    "bool_idx = (a >= 2)\n",
    "print\n",
    "print bool_idx \n",
    "print\n",
    "print a[bool_idx]\n",
    "print a[a >= 2]\n",
    "\n",
    "\n",
    "print\n",
    "print 'all'\n",
    "\n",
    "bool_idx = (a >= 2).all(axis=0)\n",
    "print\n",
    "print bool_idx \n",
    "print\n",
    "print a[:, bool_idx]\n",
    "\n",
    "\n",
    "bool_idx = (a >= 2).all(axis=1)\n",
    "print\n",
    "print bool_idx \n",
    "print\n",
    "print a[bool_idx]\n",
    "\n",
    "print\n",
    "print 'any'\n",
    "\n",
    "\n",
    "bool_idx = (a >= 2).any(axis=0)\n",
    "print\n",
    "print bool_idx \n",
    "print\n",
    "print a[:, bool_idx]\n",
    "\n",
    "\n",
    "bool_idx = (a >= 2).all(axis=1)\n",
    "print\n",
    "print bool_idx \n",
    "print\n",
    "print a[bool_idx]\n"
   ]
  },
  {
   "cell_type": "code",
   "execution_count": 89,
   "metadata": {
    "collapsed": false
   },
   "outputs": [
    {
     "name": "stdout",
     "output_type": "stream",
     "text": [
      "[ 1.  2.]\n",
      "float32\n",
      "[1 2]\n",
      "int64\n"
     ]
    }
   ],
   "source": [
    "x = np.array([1,2], dtype=np.float32)\n",
    "print x\n",
    "print x.dtype\n",
    "x = np.array([1.2,2.9], dtype=np.int64)\n",
    "print x\n",
    "print x.dtype"
   ]
  },
  {
   "cell_type": "code",
   "execution_count": 93,
   "metadata": {
    "collapsed": false
   },
   "outputs": [
    {
     "name": "stdout",
     "output_type": "stream",
     "text": [
      "[[ 1.  2.]\n",
      " [ 3.  4.]]\n",
      "[[ 5.  6.]\n",
      " [ 7.  8.]]\n",
      "\n",
      "[[  6.   8.]\n",
      " [ 10.  12.]]\n",
      "[[  6.   8.]\n",
      " [ 10.  12.]]\n",
      "\n",
      "[[-4. -4.]\n",
      " [-4. -4.]]\n",
      "[[-4. -4.]\n",
      " [-4. -4.]]\n",
      "\n",
      "[[  5.  12.]\n",
      " [ 21.  32.]]\n",
      "[[  5.  12.]\n",
      " [ 21.  32.]]\n",
      "\n",
      "[[ 0.2         0.33333333]\n",
      " [ 0.42857143  0.5       ]]\n",
      "[[ 0.2         0.33333333]\n",
      " [ 0.42857143  0.5       ]]\n",
      "\n",
      "[[ 1.          1.41421356]\n",
      " [ 1.73205081  2.        ]]\n"
     ]
    }
   ],
   "source": [
    "x = np.array([[1,2],[3,4]], dtype=np.float64)\n",
    "y = np.array([[5,6],[7,8]], dtype=np.float64)\n",
    "\n",
    "print x\n",
    "print y\n",
    "\n",
    "print\n",
    "print x + y\n",
    "print np.add(x, y)\n",
    "\n",
    "print\n",
    "print x - y\n",
    "print np.subtract(x, y)\n",
    "\n",
    "print\n",
    "print x * y\n",
    "print np.multiply(x, y)\n",
    "\n",
    "print\n",
    "print x / y\n",
    "print np.divide(x, y)\n",
    "\n",
    "print\n",
    "print np.sqrt(x)"
   ]
  },
  {
   "cell_type": "code",
   "execution_count": 97,
   "metadata": {
    "collapsed": false
   },
   "outputs": [
    {
     "name": "stdout",
     "output_type": "stream",
     "text": [
      "\n",
      "[[1 2]\n",
      " [3 4]]\n",
      "[[5 6]\n",
      " [7 8]]\n",
      "\n",
      "[ 9 10]\n",
      "[11 12]\n",
      "\n",
      "219\n",
      "219\n",
      "\n",
      "[[19 22]\n",
      " [43 50]]\n",
      "[[19 22]\n",
      " [43 50]]\n",
      "\n",
      "[[19 22]\n",
      " [43 50]]\n",
      "[[17 23]\n",
      " [39 53]]\n",
      "[[26 30]\n",
      " [38 44]]\n",
      "[[23 31]\n",
      " [34 46]]\n",
      "\n",
      "[39 58]\n",
      "[29 67]\n"
     ]
    }
   ],
   "source": [
    "x = np.array([[1,2],[3,4]])\n",
    "y = np.array([[5,6],[7,8]])\n",
    "\n",
    "v = np.array([9,10])\n",
    "w = np.array([11, 12])\n",
    "\n",
    "print\n",
    "print x\n",
    "print y\n",
    "print \n",
    "print v\n",
    "print w\n",
    "\n",
    "print\n",
    "print v.dot(w)\n",
    "print np.dot(v, w)\n",
    "print\n",
    "print x.dot(y)\n",
    "print np.dot(x, y)\n",
    "\n",
    "print\n",
    "print x.dot(y)\n",
    "print x.dot(y.T)\n",
    "print x.T.dot(y)\n",
    "print x.T.dot(y.T)\n",
    "\n",
    "\n",
    "\n",
    "print \n",
    "print v.dot(x)\n",
    "print x.dot(v)"
   ]
  },
  {
   "cell_type": "code",
   "execution_count": 106,
   "metadata": {
    "collapsed": false
   },
   "outputs": [
    {
     "name": "stdout",
     "output_type": "stream",
     "text": [
      "[[1 2]\n",
      " [3 4]]\n",
      "\n",
      "10\n",
      "[4 6]\n",
      "[[4 6]]\n",
      "[3 7]\n",
      "[[3]\n",
      " [7]]\n"
     ]
    }
   ],
   "source": [
    "x = np.array([[1,2],[3,4]])\n",
    "\n",
    "print x\n",
    "print\n",
    "print np.sum(x)\n",
    "print np.sum(x, axis=0)\n",
    "print np.sum(x, axis=0, keepdims=True)\n",
    "print np.sum(x, axis=1)\n",
    "print np.sum(x, axis=1, keepdims=True)"
   ]
  },
  {
   "cell_type": "markdown",
   "metadata": {},
   "source": [
    "### Broadcasting"
   ]
  },
  {
   "cell_type": "code",
   "execution_count": 108,
   "metadata": {
    "collapsed": false
   },
   "outputs": [
    {
     "name": "stdout",
     "output_type": "stream",
     "text": [
      "[[ 1  2  3]\n",
      " [ 4  5  6]\n",
      " [ 7  8  9]\n",
      " [10 11 12]]\n",
      "[[0 0 0]\n",
      " [0 0 0]\n",
      " [0 0 0]\n",
      " [0 0 0]]\n",
      "[1 0 1]\n",
      "\n",
      "[[ 1  2  3]\n",
      " [ 4  5  6]\n",
      " [ 7  8  9]\n",
      " [10 11 12]]\n",
      "[[ 2  2  4]\n",
      " [ 5  5  7]\n",
      " [ 8  8 10]\n",
      " [11 11 13]]\n"
     ]
    }
   ],
   "source": [
    "x = np.array([[1,2,3], [4,5,6], [7,8,9], [10, 11, 12]])\n",
    "v = np.array([1, 0, 1])\n",
    "y = np.empty_like(x)\n",
    "\n",
    "print x\n",
    "print y\n",
    "print v\n",
    "\n",
    "for i in range(4):\n",
    "    y[i, :] = x[i, :] + v\n",
    "\n",
    "print\n",
    "print x\n",
    "print y"
   ]
  },
  {
   "cell_type": "code",
   "execution_count": 110,
   "metadata": {
    "collapsed": false
   },
   "outputs": [
    {
     "name": "stdout",
     "output_type": "stream",
     "text": [
      "[[ 1  2  3]\n",
      " [ 4  5  6]\n",
      " [ 7  8  9]\n",
      " [10 11 12]]\n",
      "[1 0 1]\n",
      "[[1 0 1]\n",
      " [1 0 1]\n",
      " [1 0 1]\n",
      " [1 0 1]]\n",
      "[[ 2  2  4]\n",
      " [ 5  5  7]\n",
      " [ 8  8 10]\n",
      " [11 11 13]]\n"
     ]
    }
   ],
   "source": [
    "x = np.array([[1,2,3], [4,5,6], [7,8,9], [10, 11, 12]])\n",
    "v = np.array([1, 0, 1])\n",
    "vv = np.tile(v, (4, 1))\n",
    "print x\n",
    "print v\n",
    "print vv\n",
    "\n",
    "y = x + vv\n",
    "print y"
   ]
  },
  {
   "cell_type": "code",
   "execution_count": 116,
   "metadata": {
    "collapsed": false
   },
   "outputs": [
    {
     "name": "stdout",
     "output_type": "stream",
     "text": [
      "[[ 2  2  4]\n",
      " [ 5  5  7]\n",
      " [ 8  8 10]\n",
      " [11 11 13]]\n",
      "[[1 0 1]]\n",
      "[[ 2  2  4]\n",
      " [ 5  5  7]\n",
      " [ 8  8 10]\n",
      " [11 11 13]]\n"
     ]
    }
   ],
   "source": [
    "x = np.array([[1,2,3], [4,5,6], [7,8,9], [10, 11, 12]])\n",
    "v = np.array([1, 0, 1])\n",
    "y = x + v\n",
    "print y\n",
    "\n",
    "v = np.array([v])\n",
    "print v\n",
    "y = x + v\n",
    "print y\n"
   ]
  },
  {
   "cell_type": "code",
   "execution_count": 128,
   "metadata": {
    "collapsed": false
   },
   "outputs": [
    {
     "name": "stdout",
     "output_type": "stream",
     "text": [
      "[1 2 3]\n",
      "[4 5]\n",
      "\n",
      "[[1]\n",
      " [2]\n",
      " [3]]\n",
      "[[ 4  5]\n",
      " [ 8 10]\n",
      " [12 15]]\n",
      "[[ 4  5]\n",
      " [ 8 10]\n",
      " [12 15]]\n",
      "\n",
      "[[4]\n",
      " [5]]\n",
      "[[ 4  8 12]\n",
      " [ 5 10 15]]\n",
      "[[ 4  8 12]\n",
      " [ 5 10 15]]\n",
      "\n",
      "[[2 4 6]\n",
      " [5 7 9]]\n",
      "[[1 4]\n",
      " [2 5]\n",
      " [3 6]]\n",
      "[4 5]\n",
      "[[ 5  9]\n",
      " [ 6 10]\n",
      " [ 7 11]]\n",
      "[[ 5  6  7]\n",
      " [ 9 10 11]]\n",
      "\n",
      "[[4]\n",
      " [5]]\n",
      "[[ 5  6  7]\n",
      " [ 9 10 11]]\n",
      "\n",
      "[[ 2  4  6]\n",
      " [ 8 10 12]]\n"
     ]
    }
   ],
   "source": [
    "v = np.array([1,2,3])\n",
    "w = np.array([4,5])\n",
    "print v\n",
    "print w\n",
    "\n",
    "print\n",
    "print v.reshape((3,1))\n",
    "print v.reshape((3,1)) * w\n",
    "print w* v.reshape((3,1))\n",
    "print\n",
    "print w.reshape((2,1))\n",
    "print v * w.reshape((2,1))\n",
    "print w.reshape((2,1)) * v\n",
    "\n",
    "\n",
    "x = np.array([[1,2,3], [4,5,6]])\n",
    "print\n",
    "print x + v\n",
    "\n",
    "print x.T\n",
    "print w\n",
    "print (x.T + w)\n",
    "print (x.T + w).T\n",
    "\n",
    "print\n",
    "print w.reshape((2,1))\n",
    "print x + w.reshape((2,1))\n",
    "print\n",
    "print x * 2"
   ]
  },
  {
   "cell_type": "markdown",
   "metadata": {},
   "source": [
    "## Scipy Tutorial"
   ]
  },
  {
   "cell_type": "code",
   "execution_count": 144,
   "metadata": {
    "collapsed": false
   },
   "outputs": [],
   "source": [
    "import io\n",
    "import requests\n",
    "def urlbytes(url):\n",
    "    resp = requests.get(url)\n",
    "    return io.BytesIO(resp.content)\n",
    "    \n",
    "import matplotlib.pyplot as plt\n",
    "%matplotlib inline\n",
    "def showimg(img, **kwargs):\n",
    "    ax = plt.imshow(img, **kwargs)\n",
    "    plt.show()\n",
    "    return ax"
   ]
  },
  {
   "cell_type": "code",
   "execution_count": 147,
   "metadata": {
    "collapsed": false
   },
   "outputs": [
    {
     "name": "stdout",
     "output_type": "stream",
     "text": [
      "uint8 (400, 248, 3)\n"
     ]
    },
    {
     "data": {
      "image/png": "[encoded data removed]",
      "text/plain": [
       "<matplotlib.figure.Figure at 0x7fcf3eab0150>"
      ]
     },
     "metadata": {},
     "output_type": "display_data"
    },
    {
     "data": {
      "image/png": "[encoded data removed]",
      "text/plain": [
       "<matplotlib.figure.Figure at 0x7fcf3ea52dd0>"
      ]
     },
     "metadata": {},
     "output_type": "display_data"
    }
   ],
   "source": [
    "from scipy.misc import imread, imsave, imresize\n",
    "from PIL import Image\n",
    "\n",
    "cat = urlbytes('http://cs231n.github.io/assets/cat.jpg')\n",
    "img = imread(cat)\n",
    "print img.dtype, img.shape\n",
    "\n",
    "img_tinted = img * [1, 0.95, 0.9]\n",
    "img_tinted = imresize(img_tinted, (300,300))\n",
    "\n",
    "ax = showimg(img)\n",
    "ax = showimg(img_tinted)\n"
   ]
  },
  {
   "cell_type": "code",
   "execution_count": 176,
   "metadata": {
    "collapsed": false
   },
   "outputs": [
    {
     "name": "stdout",
     "output_type": "stream",
     "text": [
      "[[0 1]\n",
      " [1 0]\n",
      " [2 0]]\n",
      "\n",
      "[ 1.41421356  2.23606798  1.        ]\n",
      "\n",
      "[[ 0.          1.41421356  2.23606798]\n",
      " [ 1.41421356  0.          1.        ]\n",
      " [ 2.23606798  1.          0.        ]]\n",
      "\n",
      "[[1]\n",
      " [1]\n",
      " [4]]\n",
      "[[1 0 0]\n",
      " [0 1 2]\n",
      " [0 2 4]]\n",
      "[[ 0  2  2]\n",
      " [ 2  0 -2]\n",
      " [ 8  4  0]]\n",
      "\n"
     ]
    }
   ],
   "source": [
    "import numpy as np\n",
    "from scipy.spatial.distance import pdist, squareform\n",
    "\n",
    "x = np.array([[0, 1], [1, 0], [2, 0]])\n",
    "print x\n",
    "\n",
    "\n",
    "d = pdist(x, 'euclidean')\n",
    "print\n",
    "print d\n",
    "\n",
    "d = squareform(pdist(x, 'euclidean'))\n",
    "print\n",
    "print d\n",
    "\n",
    "print\n",
    "x2 = np.sum(x**2, axis=1, keepdims=True)\n",
    "xx = x.dot(x.T)\n",
    "print x2\n",
    "print xx\n",
    "print x2 - 2*xx + x2\n",
    "print\n",
    "x2 = np.array([[__ for __ in _] for _ in x])\n"
   ]
  },
  {
   "cell_type": "code",
   "execution_count": null,
   "metadata": {
    "collapsed": true
   },
   "outputs": [],
   "source": []
  },
  {
   "cell_type": "code",
   "execution_count": null,
   "metadata": {
    "collapsed": true
   },
   "outputs": [],
   "source": []
  },
  {
   "cell_type": "code",
   "execution_count": null,
   "metadata": {
    "collapsed": true
   },
   "outputs": [],
   "source": []
  },
  {
   "cell_type": "markdown",
   "metadata": {},
   "source": [
    "# Linear Classification"
   ]
  },
  {
   "cell_type": "markdown",
   "metadata": {},
   "source": [
    "### Overview\n",
    "Two major components:\n",
    "- score function\n",
    "    - maps raw data to class scores\n",
    "   \n",
    "- loss function\n",
    "    - quantifies the agreement b/w predicted scores and labels\n",
    " \n",
    "The problem can be cast as an optimization problem:\n",
    "- minimize the loss function w.r.t the parameters of the score function"
   ]
  },
  {
   "cell_type": "markdown",
   "metadata": {},
   "source": [
    "### Parameterized mapping from images to label scores\n",
    "Define the score function that maps pixel values of an image to confidence scores for eacch class.\n",
    "\n",
    "\n",
    "### Multiclass SVMs\n",
    "L_i = sum(max(0, s[j] = s[y_i] + delta))\n",
    "\n",
    "#lets assume scores:\n",
    "s = [13, -7, 11] # s[0] = true class, \n",
    "y_i = 0\n",
    "\n",
    "#sum over all incorrect classes j != y_i (s[0] - s[y_i] = 0\n",
    "L_i = max(0, -7-s[y_i] + 10) + max(0, 11-s[y_i] + 10\n",
    "    = max(0, _) + max(0, -2 + 10)\n",
    "    = 0 + 8\n",
    "#we get zero loss for any pair <0 because correct class score is greater than the incorrect class score by at least a margin of delta (10)\n",
    "\n",
    "#the SVM loss function wants the score of the correct class to be larger than the incorrect class scores by at least a margin of delta, \n",
    "otherwise, we accumulate loss\n",
    "\n",
    "#working with linear loss functions, we can write\n",
    "L_i = sum(max(0, w.T[j].dot(x[i]) - w.T[y_i].dot(x[i]) + delta)\n",
    "\n",
    "#threshold is at zero.. often called hinge loss\n",
    "\n",
    "\n"
   ]
  },
  {
   "cell_type": "code",
   "execution_count": 54,
   "metadata": {
    "collapsed": false
   },
   "outputs": [
    {
     "name": "stdout",
     "output_type": "stream",
     "text": [
      "(3073, 3) (3, 1) (5, 3073)\n",
      "[[ -48.   31.  -75.]\n",
      " [ -96. -117.   32.]\n",
      " [ -23.  -94.   -5.]\n",
      " [ -53.   32.  -23.]\n",
      " [  32.  -80.  125.]]\n",
      "[[1]\n",
      " [4]\n",
      " [3]]\n",
      "[[ 0.1669584   0.47825303  0.19011718 ...,  0.61719785  0.70255026\n",
      "   0.22207288]\n",
      " [ 0.01175936  0.99778189  0.7322487  ...,  0.01216036  0.11978798\n",
      "   0.19744082]\n",
      " [ 0.12586567  0.59769795  0.23507197 ...,  0.82607812  0.61327901\n",
      "   0.25211055]\n",
      " [ 0.95274496  0.30065255  0.23725402 ...,  0.69816264  0.55752307\n",
      "   0.97441648]\n",
      " [ 0.72423955  0.89850426  0.08266282 ...,  0.01825383  0.20745876\n",
      "   0.36876737]]\n",
      "11750.7288462\n"
     ]
    }
   ],
   "source": [
    "import numpy as np\n",
    "def L_i(x, y, W):\n",
    "    \"\"\" loss function without regularization\n",
    "    \n",
    "    :x = column vector (e.g. 3073 x 1)\n",
    "    :y = integer giving index of correct class\n",
    "    :W = weight matrix (e.g. 10 x 3073)\n",
    "    \"\"\"\n",
    "    delta = 1.0\n",
    "    scores = W.dot(x)\n",
    "    score_true = scores[y]\n",
    "    D = W.shape[0]\n",
    "    loss_i = 0.0\n",
    "    for j in xrange(D):\n",
    "        if y == j:\n",
    "            continue            \n",
    "        loss_i += max(0, scores[j] - score_true + delta)\n",
    "    return loss_i\n",
    "\n",
    "\n",
    "def L_i_vectorized(x, y, W):\n",
    "    \"\"\" loss function without regularization\n",
    "    \n",
    "    :x = column vector (e.g. 3073 x 1)\n",
    "    :y = integer giving index of correct class\n",
    "    :W = weight matrix (e.g. 10 x 3073)\n",
    "    \"\"\"\n",
    "    delta = 1.0\n",
    "    scores = W.dot(x)\n",
    "    \n",
    "    margins = np.maximum(0, scores - scores[y] + delta)\n",
    "    margins[y] = 0\n",
    "    loss_i = np.sum(margins)\n",
    "    \n",
    "def L(X, y, W):\n",
    "    \"\"\" \n",
    "    fully vectorized.. eval loss over all examples in X    \n",
    "\n",
    "    x = [[1].... 50,000]    1\n",
    "          ...\n",
    "         [[1]...   50,000]]  3073\n",
    "    y = [1...50,000]\n",
    "    W = [[1...3073]  1\n",
    "         ... \n",
    "         [1...3073]] 10\n",
    "    \"\"\"\n",
    "    delta = 10.0\n",
    "    scores = W.dot(X)\n",
    "    margins = np.maximum(0, scores - scores[y, :] + delta)\n",
    "    margins[:, y, 0] = 0.0 #np.zeros_like(y)\n",
    "    loss = np.sum(np.sum(margins, axis=1))\n",
    "    return loss\n",
    "\n",
    "    \n",
    "    \n",
    "X = np.random.randint(0-255/2,255/2, size=(3073, 3)).astype(float)\n",
    "y = np.array([[1], [4], [3]])#np.random.randint(0, 3, size=(3,1))\n",
    "#X[:, :] *= y.reshape((1, 3)).astype(float) *.1\n",
    "W = np.random.random((5, 3073))\n",
    "print X.shape, y.shape, W.shape\n",
    "print X[:5, :]\n",
    "print y[:]\n",
    "print W[:5, :]\n",
    "l= L(X,y,W)\n",
    "print l\n",
    "\n"
   ]
  },
  {
   "cell_type": "markdown",
   "metadata": {},
   "source": [
    "# Softmax\n",
    "\n",
    "P(y_i) = e**f[y_i] / sum(e**f[j])"
   ]
  },
  {
   "cell_type": "code",
   "execution_count": 52,
   "metadata": {
    "collapsed": false
   },
   "outputs": [
    {
     "name": "stdout",
     "output_type": "stream",
     "text": [
      "[123 456 789]\n",
      "[  0.   0.  nan]\n",
      "\n",
      "[-666 -333    0]\n",
      "[  5.75274406e-290   2.39848787e-145   1.00000000e+000]\n"
     ]
    },
    {
     "name": "stderr",
     "output_type": "stream",
     "text": [
      "/home/calebgeniesse/src/anaconda2/lib/python2.7/site-packages/ipykernel/__main__.py:3: RuntimeWarning: overflow encountered in exp\n",
      "  app.launch_new_instance()\n",
      "/home/calebgeniesse/src/anaconda2/lib/python2.7/site-packages/ipykernel/__main__.py:3: RuntimeWarning: invalid value encountered in divide\n",
      "  app.launch_new_instance()\n"
     ]
    }
   ],
   "source": [
    "import numpy as np\n",
    "f = np.array([123, 456, 789]) # 3 classes with large scors\n",
    "p = np.exp(f) / np.sum(np.exp(f)) # numerical blowup\n",
    "print f\n",
    "print p\n",
    "\n",
    "# instead, first shift values of f so highest number is 0\n",
    "f -= np.max(f)\n",
    "p = np.exp(f) / np.sum(np.exp(f))\n",
    "print\n",
    "print f\n",
    "print p"
   ]
  },
  {
   "cell_type": "code",
   "execution_count": null,
   "metadata": {
    "collapsed": true
   },
   "outputs": [],
   "source": []
  },
  {
   "cell_type": "code",
   "execution_count": null,
   "metadata": {
    "collapsed": true
   },
   "outputs": [],
   "source": []
  },
  {
   "cell_type": "markdown",
   "metadata": {},
   "source": [
    "# Optimization 1\n",
    "## Gradients\n",
    "\n",
    "- score functions: map raw pixels to class scores\n",
    "- loss functions: measure quality of particular params of score fxn\n",
    "\n",
    "- recall the linear function had form\n",
    "       - f(x[i], W) = Wx[i]\n",
    "\n",
    "- SVM formulated as\n",
    "    - L = 1/N sum(sum(max(0, f[j] - f[y] + 1)) + aR(W)\n",
    "    \n",
    "    \n",
    "- Optimization is the process of finding the params minimizing the loss\n"
   ]
  },
  {
   "cell_type": "code",
   "execution_count": 97,
   "metadata": {
    "collapsed": false
   },
   "outputs": [],
   "source": [
    "def L(X, y, W):\n",
    "    \"\"\" \n",
    "    fully vectorized.. eval loss over all examples in X    \n",
    "\n",
    "    x = [[1].... 50,000]    1\n",
    "          ...\n",
    "         [[1]...   50,000]]  3073\n",
    "    y = [1...50,000]\n",
    "    W = [[1...3073]  1\n",
    "         ... \n",
    "         [1...3073]] 10\n",
    "    \"\"\"\n",
    "    delta = 10.0\n",
    "    scores = W.dot(X)\n",
    "    margins = np.maximum(0, scores - scores[y] + delta)\n",
    "    margins[y] = 0.0 #np.zeros_like(y)\n",
    "    loss = np.sum(np.sum(margins, axis=1))\n",
    "    return loss\n"
   ]
  },
  {
   "cell_type": "code",
   "execution_count": 98,
   "metadata": {
    "collapsed": false
   },
   "outputs": [
    {
     "ename": "IndexError",
     "evalue": "index 6 is out of bounds for axis 0 with size 5",
     "output_type": "error",
     "traceback": [
      "\u001b[1;31m---------------------------------------------------------------------------\u001b[0m",
      "\u001b[1;31mIndexError\u001b[0m                                Traceback (most recent call last)",
      "\u001b[1;32m<ipython-input-98-56db65f8b8fc>\u001b[0m in \u001b[0;36m<module>\u001b[1;34m()\u001b[0m\n\u001b[0;32m     10\u001b[0m \u001b[1;32mfor\u001b[0m \u001b[0mnum\u001b[0m \u001b[1;32min\u001b[0m \u001b[0mxrange\u001b[0m\u001b[1;33m(\u001b[0m\u001b[1;36m100\u001b[0m\u001b[1;33m)\u001b[0m\u001b[1;33m:\u001b[0m\u001b[1;33m\u001b[0m\u001b[0m\n\u001b[0;32m     11\u001b[0m     \u001b[0mW\u001b[0m \u001b[1;33m=\u001b[0m \u001b[0mnp\u001b[0m\u001b[1;33m.\u001b[0m\u001b[0mrandom\u001b[0m\u001b[1;33m.\u001b[0m\u001b[0mrandn\u001b[0m\u001b[1;33m(\u001b[0m\u001b[1;36m10\u001b[0m\u001b[1;33m,\u001b[0m \u001b[1;36m3073\u001b[0m\u001b[1;33m)\u001b[0m \u001b[1;33m*\u001b[0m \u001b[1;36m0.0001\u001b[0m\u001b[1;33m\u001b[0m\u001b[0m\n\u001b[1;32m---> 12\u001b[1;33m     \u001b[0mloss\u001b[0m \u001b[1;33m=\u001b[0m \u001b[0mL\u001b[0m\u001b[1;33m(\u001b[0m\u001b[0mX\u001b[0m\u001b[1;33m,\u001b[0m \u001b[0my\u001b[0m\u001b[1;33m,\u001b[0m \u001b[0mW\u001b[0m\u001b[1;33m)\u001b[0m\u001b[1;33m\u001b[0m\u001b[0m\n\u001b[0m\u001b[0;32m     13\u001b[0m     \u001b[1;32mif\u001b[0m \u001b[0mloss\u001b[0m \u001b[1;33m<\u001b[0m \u001b[0mbestloss\u001b[0m\u001b[1;33m:\u001b[0m\u001b[1;33m\u001b[0m\u001b[0m\n\u001b[0;32m     14\u001b[0m         \u001b[0mbestloss\u001b[0m \u001b[1;33m=\u001b[0m \u001b[0mloss\u001b[0m\u001b[1;33m\u001b[0m\u001b[0m\n",
      "\u001b[1;32m<ipython-input-97-c55f3fcf6f22>\u001b[0m in \u001b[0;36mL\u001b[1;34m(X, y, W)\u001b[0m\n\u001b[0;32m     14\u001b[0m     \u001b[0mscores\u001b[0m \u001b[1;33m=\u001b[0m \u001b[0mW\u001b[0m\u001b[1;33m.\u001b[0m\u001b[0mdot\u001b[0m\u001b[1;33m(\u001b[0m\u001b[0mX\u001b[0m\u001b[1;33m)\u001b[0m\u001b[1;33m\u001b[0m\u001b[0m\n\u001b[0;32m     15\u001b[0m     \u001b[0mmargins\u001b[0m \u001b[1;33m=\u001b[0m \u001b[0mnp\u001b[0m\u001b[1;33m.\u001b[0m\u001b[0mmaximum\u001b[0m\u001b[1;33m(\u001b[0m\u001b[1;36m0\u001b[0m\u001b[1;33m,\u001b[0m \u001b[0mscores\u001b[0m \u001b[1;33m-\u001b[0m \u001b[0mscores\u001b[0m\u001b[1;33m[\u001b[0m\u001b[0my\u001b[0m\u001b[1;33m]\u001b[0m \u001b[1;33m+\u001b[0m \u001b[0mdelta\u001b[0m\u001b[1;33m)\u001b[0m\u001b[1;33m\u001b[0m\u001b[0m\n\u001b[1;32m---> 16\u001b[1;33m     \u001b[0mmargins\u001b[0m\u001b[1;33m[\u001b[0m\u001b[0my\u001b[0m\u001b[1;33m]\u001b[0m \u001b[1;33m=\u001b[0m \u001b[1;36m0.0\u001b[0m \u001b[1;31m#np.zeros_like(y)\u001b[0m\u001b[1;33m\u001b[0m\u001b[0m\n\u001b[0m\u001b[0;32m     17\u001b[0m     \u001b[0mloss\u001b[0m \u001b[1;33m=\u001b[0m \u001b[0mnp\u001b[0m\u001b[1;33m.\u001b[0m\u001b[0msum\u001b[0m\u001b[1;33m(\u001b[0m\u001b[0mnp\u001b[0m\u001b[1;33m.\u001b[0m\u001b[0msum\u001b[0m\u001b[1;33m(\u001b[0m\u001b[0mmargins\u001b[0m\u001b[1;33m,\u001b[0m \u001b[0maxis\u001b[0m\u001b[1;33m=\u001b[0m\u001b[1;36m1\u001b[0m\u001b[1;33m)\u001b[0m\u001b[1;33m)\u001b[0m\u001b[1;33m\u001b[0m\u001b[0m\n\u001b[0;32m     18\u001b[0m     \u001b[1;32mreturn\u001b[0m \u001b[0mloss\u001b[0m\u001b[1;33m\u001b[0m\u001b[0m\n",
      "\u001b[1;31mIndexError\u001b[0m: index 6 is out of bounds for axis 0 with size 5"
     ]
    }
   ],
   "source": [
    "### Strategy #1: Random search (bad idea)\n",
    "\n",
    "X = np.random.randint(0-255/2,255/2, size=(3073, 5)).astype(float)\n",
    "y  = np.random.randint(0, 10, size=(5,1))\n",
    "W = np.random.random((10, 3073))\n",
    "\n",
    "\n",
    "bestloss = float('inf')\n",
    "Wbest = None\n",
    "for num in xrange(100):\n",
    "    W = np.random.randn(10, 3073) * 0.0001\n",
    "    loss = L(X, y, W)\n",
    "    if loss < bestloss:\n",
    "        bestloss = loss\n",
    "        Wbest = W\n",
    "        print \"in attempt {} the loss was {}, best {}\".format(num, loss,bestloss)\n",
    "    \n"
   ]
  },
  {
   "cell_type": "code",
   "execution_count": 67,
   "metadata": {
    "collapsed": false
   },
   "outputs": [
    {
     "name": "stdout",
     "output_type": "stream",
     "text": [
      "[[  5.92379723e-02   7.20315175e-02  -2.59033280e-01   6.29125380e-01\n",
      "   -2.82233663e-01]\n",
      " [  7.08588210e-02   1.94460345e-02  -1.25360159e-01  -6.29123689e-01\n",
      "    7.58940104e-03]\n",
      " [  2.94958497e-02   3.87558034e-01   5.12267162e-01   8.84324210e-02\n",
      "    8.12369110e-02]\n",
      " [ -1.30553036e+00   4.20066278e-01  -5.55555735e-01   6.57171890e-02\n",
      "   -5.58267882e-01]\n",
      " [  6.86648120e-01   8.56648086e-03   3.61604672e-01  -8.04298368e-03\n",
      "    1.28556966e-01]\n",
      " [ -1.58898622e-01  -5.13831095e-01  -1.28108998e-01  -4.65439568e-01\n",
      "    1.07140388e-03]\n",
      " [  5.09375642e-01   3.57203046e-01   1.17921617e-01  -1.23110653e-01\n",
      "    2.05502138e-01]\n",
      " [  6.07852453e-02   5.40293211e-01   7.14637748e-01   4.42142719e-01\n",
      "   -8.94706879e-02]\n",
      " [ -8.70802549e-01  -7.56283864e-02   1.27170713e-01   7.06990983e-02\n",
      "    4.78896435e-01]\n",
      " [ -2.72763048e-01   4.48245058e-01  -3.60457690e-01   4.46600384e-01\n",
      "   -8.70557355e-02]]\n",
      "[4 7 7 0 8]\n",
      "[[4]\n",
      " [0]\n",
      " [2]\n",
      " [9]\n",
      " [7]]\n",
      "0.16\n"
     ]
    }
   ],
   "source": [
    "scores = Wbest.dot(X)\n",
    "print scores\n",
    "y_pred = np.argmax(scores, axis=0)\n",
    "print y_pred\n",
    "print y\n",
    "print np.mean(y_pred == y)\n"
   ]
  },
  {
   "cell_type": "code",
   "execution_count": 81,
   "metadata": {
    "collapsed": false
   },
   "outputs": [
    {
     "name": "stdout",
     "output_type": "stream",
     "text": [
      "iter 0 loss is 2660.26900546, best = inf\n",
      ". iter 1 loss is 2641.42401486, best = 2660.26900546\n",
      ". iter 2 loss is 2627.04748528, best = 2641.42401486\n",
      ". iter 3 loss is 2616.23733471, best = 2627.04748528\n",
      ". iter 4 loss is 2611.65570892, best = 2616.23733471\n",
      ". iter 5 loss is 2604.3705902, best = 2611.65570892\n",
      ". . iter 7 loss is 2580.47600393, best = 2604.3705902\n",
      ". iter 8 loss is 2571.08800698, best = 2580.47600393\n",
      ". . . . iter 12 loss is 2561.95719192, best = 2571.08800698\n",
      ". . . . . . . iter 19 loss is 2547.05276539, best = 2561.95719192\n",
      ". . . . . . iter 25 loss is 2526.72740111, best = 2547.05276539\n",
      ". iter 26 loss is 2501.6158197, best = 2526.72740111\n",
      ". iter 27 loss is 2487.56780057, best = 2501.6158197\n",
      ". . iter 29 loss is 2455.44424926, best = 2487.56780057\n",
      ". iter 30 loss is 2451.2602516, best = 2455.44424926\n",
      ". iter 31 loss is 2416.12544187, best = 2451.2602516\n",
      ". . . . . . iter 37 loss is 2415.94167944, best = 2416.12544187\n",
      ". iter 38 loss is 2388.17152503, best = 2415.94167944\n",
      ". . iter 40 loss is 2382.64099427, best = 2388.17152503\n",
      ". . iter 42 loss is 2377.56073488, best = 2382.64099427\n",
      ". iter 43 loss is 2365.33861203, best = 2377.56073488\n",
      ". . . . iter 47 loss is 2342.16333454, best = 2365.33861203\n",
      ". iter 48 loss is 2330.72319271, best = 2342.16333454\n",
      ". . . . . . . . iter 56 loss is 2301.1142625, best = 2330.72319271\n",
      ". . . . iter 60 loss is 2286.97348837, best = 2301.1142625\n",
      ". . iter 62 loss is 2278.48090032, best = 2286.97348837\n",
      ". . . iter 65 loss is 2273.01151302, best = 2278.48090032\n",
      ". . . . iter 69 loss is 2243.24499775, best = 2273.01151302\n",
      ". . iter 71 loss is 2220.86388946, best = 2243.24499775\n",
      ". . iter 73 loss is 2217.64615048, best = 2220.86388946\n",
      ". iter 74 loss is 2215.9841355, best = 2217.64615048\n",
      ". . . iter 77 loss is 2205.61983304, best = 2215.9841355\n",
      ". . . iter 80 loss is 2185.23193217, best = 2205.61983304\n",
      ". . . . . . iter 86 loss is 2162.03042976, best = 2185.23193217\n",
      ". iter 87 loss is 2139.10553636, best = 2162.03042976\n",
      ". . . . . . . . iter 95 loss is 2107.92061472, best = 2139.10553636\n",
      ". iter 96 loss is 2088.26337719, best = 2107.92061472\n",
      ". iter 97 loss is 2083.81676108, best = 2088.26337719\n",
      ". . . . . iter 102 loss is 2078.34038901, best = 2083.81676108\n",
      ". . . iter 105 loss is 2069.19835697, best = 2078.34038901\n",
      ". . . . iter 109 loss is 2049.40794048, best = 2069.19835697\n",
      ". . . . iter 113 loss is 2035.50507709, best = 2049.40794048\n",
      ". . . iter 116 loss is 2022.95752142, best = 2035.50507709\n",
      ". iter 117 loss is 2011.95030285, best = 2022.95752142\n",
      ". . iter 119 loss is 1984.36624347, best = 2011.95030285\n",
      ". iter 120 loss is 1975.75842573, best = 1984.36624347\n",
      ". . . . iter 124 loss is 1971.60425934, best = 1975.75842573\n",
      ". . . iter 127 loss is 1969.99077637, best = 1971.60425934\n",
      ". . iter 129 loss is 1958.65738437, best = 1969.99077637\n",
      ". iter 130 loss is 1921.9530162, best = 1958.65738437\n",
      ". iter 131 loss is 1894.69040217, best = 1921.9530162\n",
      ". iter 132 loss is 1881.9902333, best = 1894.69040217\n",
      ". iter 133 loss is 1873.91141197, best = 1881.9902333\n",
      ". iter 134 loss is 1872.97352988, best = 1873.91141197\n",
      ". iter 135 loss is 1865.65031315, best = 1872.97352988\n",
      ". . iter 137 loss is 1823.5862354, best = 1865.65031315\n",
      ". iter 138 loss is 1802.39336015, best = 1823.5862354\n",
      ". . iter 140 loss is 1789.00382584, best = 1802.39336015\n",
      ". . . iter 143 loss is 1781.99570943, best = 1789.00382584\n",
      ". . iter 145 loss is 1759.04685373, best = 1781.99570943\n",
      ". iter 146 loss is 1755.44799421, best = 1759.04685373\n",
      ". . iter 148 loss is 1747.34035085, best = 1755.44799421\n",
      ". iter 149 loss is 1738.69108227, best = 1747.34035085\n",
      ". iter 150 loss is 1714.68536034, best = 1738.69108227\n",
      ". . . iter 153 loss is 1678.70056485, best = 1714.68536034\n",
      ". iter 154 loss is 1654.68071191, best = 1678.70056485\n",
      ". iter 155 loss is 1640.16317835, best = 1654.68071191\n",
      ". . . . . iter 160 loss is 1630.74207181, best = 1640.16317835\n",
      ". iter 161 loss is 1609.80706505, best = 1630.74207181\n",
      ". iter 162 loss is 1578.52750226, best = 1609.80706505\n",
      ". . . iter 165 loss is 1550.24226058, best = 1578.52750226\n",
      ". . iter 167 loss is 1543.41937461, best = 1550.24226058\n",
      ". . iter 169 loss is 1509.92121484, best = 1543.41937461\n",
      ". . iter 171 loss is 1502.89184011, best = 1509.92121484\n",
      ". . . iter 174 loss is 1488.82256724, best = 1502.89184011\n",
      ". . . . . iter 179 loss is 1477.63820574, best = 1488.82256724\n",
      ". iter 180 loss is 1466.86665603, best = 1477.63820574\n",
      ". . iter 182 loss is 1466.79937166, best = 1466.86665603\n",
      ". iter 183 loss is 1462.45221764, best = 1466.79937166\n",
      ". . . iter 186 loss is 1447.65881262, best = 1462.45221764\n",
      ". . . iter 189 loss is 1421.59684985, best = 1447.65881262\n",
      ". iter 190 loss is 1418.67148664, best = 1421.59684985\n",
      ". . . iter 193 loss is 1401.05270003, best = 1418.67148664\n",
      ". iter 194 loss is 1393.98287033, best = 1401.05270003\n",
      ". . . iter 197 loss is 1392.30373361, best = 1393.98287033\n",
      ". . . . iter 201 loss is 1376.85677418, best = 1392.30373361\n",
      ". iter 202 loss is 1365.7833038, best = 1376.85677418\n",
      ". iter 203 loss is 1341.5568804, best = 1365.7833038\n",
      ". . iter 205 loss is 1333.35723062, best = 1341.5568804\n",
      ". . . iter 208 loss is 1320.02493121, best = 1333.35723062\n",
      ". iter 209 loss is 1319.35431906, best = 1320.02493121\n",
      ". . iter 211 loss is 1310.59305615, best = 1319.35431906\n",
      ". iter 212 loss is 1296.68953758, best = 1310.59305615\n",
      ". . . . . iter 217 loss is 1267.75358198, best = 1296.68953758\n",
      ". . iter 219 loss is 1266.36432042, best = 1267.75358198\n",
      ". iter 220 loss is 1261.09194488, best = 1266.36432042\n",
      ". . . . iter 224 loss is 1257.82618329, best = 1261.09194488\n",
      ". . iter 226 loss is 1237.3815778, best = 1257.82618329\n",
      ". . iter 228 loss is 1237.34931642, best = 1237.3815778\n",
      ". . iter 230 loss is 1232.8217207, best = 1237.34931642\n",
      ". . iter 232 loss is 1230.28236893, best = 1232.8217207\n",
      ". . . . . . iter 238 loss is 1229.01504751, best = 1230.28236893\n",
      ". iter 239 loss is 1206.66965767, best = 1229.01504751\n",
      ". . . . iter 243 loss is 1198.72868246, best = 1206.66965767\n",
      ". . iter 245 loss is 1197.75855707, best = 1198.72868246\n",
      ". iter 246 loss is 1194.76304656, best = 1197.75855707\n",
      ". . . . iter 250 loss is 1189.20693809, best = 1194.76304656\n",
      ". iter 251 loss is 1186.3343492, best = 1189.20693809\n",
      ". iter 252 loss is 1182.0141239, best = 1186.3343492\n",
      ". iter 253 loss is 1181.36847786, best = 1182.0141239\n",
      ". iter 254 loss is 1173.02353698, best = 1181.36847786\n",
      ". . . iter 257 loss is 1162.25491149, best = 1173.02353698\n",
      ". . iter 259 loss is 1160.55335723, best = 1162.25491149\n",
      ". . . iter 262 loss is 1145.82098665, best = 1160.55335723\n",
      ". . iter 264 loss is 1129.36749798, best = 1145.82098665\n",
      ". iter 265 loss is 1108.37753933, best = 1129.36749798\n",
      ". iter 266 loss is 1099.05624718, best = 1108.37753933\n",
      ". iter 267 loss is 1094.6781914, best = 1099.05624718\n",
      ". iter 268 loss is 1087.61581133, best = 1094.6781914\n",
      ". . iter 270 loss is 1080.03354613, best = 1087.61581133\n",
      ". . iter 272 loss is 1074.52363899, best = 1080.03354613\n",
      ". iter 273 loss is 1071.03726927, best = 1074.52363899\n",
      ". iter 274 loss is 1063.65373974, best = 1071.03726927\n",
      ". . iter 276 loss is 1057.73430989, best = 1063.65373974\n",
      ". iter 277 loss is 1050.76129327, best = 1057.73430989\n",
      ". . iter 279 loss is 1045.06591941, best = 1050.76129327\n",
      ". iter 280 loss is 1026.24262918, best = 1045.06591941\n",
      ". . iter 282 loss is 1024.83985565, best = 1026.24262918\n",
      ". . iter 284 loss is 1021.5288061, best = 1024.83985565\n",
      ". iter 285 loss is 1014.0087404, best = 1021.5288061\n",
      ". iter 286 loss is 1007.43526845, best = 1014.0087404\n",
      ". iter 287 loss is 1006.21722209, best = 1007.43526845\n",
      ". . . . . . . . iter 295 loss is 1004.47800638, best = 1006.21722209\n",
      ". . iter 297 loss is 999.903139901, best = 1004.47800638\n",
      ". . . iter 300 loss is 994.265731114, best = 999.903139901\n",
      ". iter 301 loss is 990.887056254, best = 994.265731114\n",
      ". . . iter 304 loss is 988.041779132, best = 990.887056254\n",
      ". . iter 306 loss is 979.753580512, best = 988.041779132\n",
      ". iter 307 loss is 968.959552344, best = 979.753580512\n",
      ". . . iter 310 loss is 965.674716377, best = 968.959552344\n",
      ". . iter 312 loss is 963.829860806, best = 965.674716377\n",
      ". . . . . iter 317 loss is 953.241244198, best = 963.829860806\n",
      ". . . . . . iter 323 loss is 951.029863248, best = 953.241244198\n",
      ". iter 324 loss is 948.14922111, best = 951.029863248\n",
      ". . iter 326 loss is 946.87205239, best = 948.14922111\n",
      ". . . iter 329 loss is 941.934511867, best = 946.87205239\n",
      ". . iter 331 loss is 926.818256432, best = 941.934511867\n",
      ". . iter 333 loss is 922.442320629, best = 926.818256432\n",
      ". . iter 335 loss is 917.622146428, best = 922.442320629\n",
      ". iter 336 loss is 911.328182313, best = 917.622146428\n",
      ". . iter 338 loss is 908.938861571, best = 911.328182313\n",
      ". . iter 340 loss is 902.450738244, best = 908.938861571\n",
      ". . iter 342 loss is 899.303658424, best = 902.450738244\n",
      ". iter 343 loss is 892.275580481, best = 899.303658424\n",
      ". iter 344 loss is 878.218305904, best = 892.275580481\n",
      ". iter 345 loss is 876.232916719, best = 878.218305904\n",
      ". iter 346 loss is 868.0636508, best = 876.232916719\n",
      ". . iter 348 loss is 862.326707182, best = 868.0636508\n",
      ". . . iter 351 loss is 857.411936564, best = 862.326707182\n",
      ". . . . . . iter 357 loss is 857.390256135, best = 857.411936564\n",
      ". . . . iter 361 loss is 857.217100866, best = 857.390256135\n",
      ". iter 362 loss is 851.57921292, best = 857.217100866\n",
      ". iter 363 loss is 841.459317061, best = 851.57921292\n",
      ". . . . . iter 368 loss is 839.432927834, best = 841.459317061\n",
      ". . iter 370 loss is 835.000388572, best = 839.432927834\n",
      ". . . . iter 374 loss is 833.949132282, best = 835.000388572\n",
      ". . . iter 377 loss is 825.897042724, best = 833.949132282\n",
      ". . . iter 380 loss is 825.792683104, best = 825.897042724\n",
      ". . iter 382 loss is 819.47866864, best = 825.792683104\n",
      ". iter 383 loss is 812.53696344, best = 819.47866864\n",
      ". . iter 385 loss is 810.831743132, best = 812.53696344\n",
      ". . . . iter 389 loss is 805.500260935, best = 810.831743132\n",
      ". . iter 391 loss is 794.934310535, best = 805.500260935\n",
      ". . iter 393 loss is 788.33129626, best = 794.934310535\n",
      ". iter 394 loss is 787.612890483, best = 788.33129626\n",
      ". . . . . iter 399 loss is 786.809708706, best = 787.612890483\n",
      ". . iter 401 loss is 780.257445811, best = 786.809708706\n",
      ". . . . iter 405 loss is 780.203000336, best = 780.257445811\n",
      ". . . . . . . . iter 413 loss is 777.402266384, best = 780.203000336\n",
      ". . . . . . . . . . . . . . iter 427 loss is 768.201680967, best = 777.402266384\n",
      ". iter 428 loss is 766.015117468, best = 768.201680967\n",
      ". iter 429 loss is 759.36584327, best = 766.015117468\n",
      ". . iter 431 loss is 758.859221943, best = 759.36584327\n",
      ". . . . iter 435 loss is 754.394244934, best = 758.859221943\n",
      ". . iter 437 loss is 750.27526241, best = 754.394244934\n",
      ". iter 438 loss is 743.579968811, best = 750.27526241\n",
      ". . iter 440 loss is 740.921894035, best = 743.579968811\n",
      ". . iter 442 loss is 740.540777581, best = 740.921894035\n",
      ". . . . . . . . . iter 451 loss is 739.429119607, best = 740.540777581\n",
      ". iter 452 loss is 737.266671697, best = 739.429119607\n",
      ". iter 453 loss is 732.226411189, best = 737.266671697\n",
      ". . . . . iter 458 loss is 727.895547422, best = 732.226411189\n",
      ". . . . . . iter 464 loss is 727.642818709, best = 727.895547422\n",
      ". . iter 466 loss is 725.935651753, best = 727.642818709\n",
      ". . iter 468 loss is 722.521704298, best = 725.935651753\n",
      ". . . . . . iter 474 loss is 718.94433992, best = 722.521704298\n",
      ". iter 475 loss is 718.480165065, best = 718.94433992\n",
      ". iter 476 loss is 716.844131222, best = 718.480165065\n",
      ". iter 477 loss is 715.111270001, best = 716.844131222\n",
      ". . . iter 480 loss is 715.070906688, best = 715.111270001\n",
      ". . . . . . iter 486 loss is 710.8221019, best = 715.070906688\n",
      ". . . iter 489 loss is 709.773730737, best = 710.8221019\n",
      ". . . . . iter 494 loss is 708.594099595, best = 709.773730737\n",
      ". . . . . . . . . . iter 504 loss is 705.88022867, best = 708.594099595\n",
      ". . . iter 507 loss is 704.926958223, best = 705.88022867\n",
      ". . . iter 510 loss is 704.653868063, best = 704.926958223\n",
      ". iter 511 loss is 703.536236208, best = 704.653868063\n",
      ". . . iter 514 loss is 701.193278338, best = 703.536236208\n",
      ". . . iter 517 loss is 698.350420791, best = 701.193278338\n",
      ". . . . . . . . . . . . . . . . . . . . . . . . . . . . iter 545 loss is 697.870114246, best = 698.350420791\n",
      ". . iter 547 loss is 697.402555539, best = 697.870114246\n",
      ". . iter 549 loss is 696.276364767, best = 697.402555539\n",
      ". . . . . . . . . . . . . . . . . . iter 567 loss is 696.012921261, best = 696.276364767\n",
      ". . . iter 570 loss is 695.654948942, best = 696.012921261\n",
      ". . . . . . . . . . . . . . . . . . . iter 589 loss is 695.59823926, best = 695.654948942\n",
      ". . . . . . iter 595 loss is 694.277066784, best = 695.59823926\n",
      ". . . . . . . . . . . . . . . . . . . . . . . . . . . iter 622 loss is 693.30019138, best = 694.277066784\n",
      ". . . . . . . iter 629 loss is 692.725982555, best = 693.30019138\n",
      ". . . . . . . . . . . . . iter 642 loss is 690.777546664, best = 692.725982555\n",
      ". iter 643 loss is 689.331417091, best = 690.777546664\n",
      ". . . . iter 647 loss is 688.561404895, best = 689.331417091\n",
      ". . . . . . . . . . . iter 658 loss is 687.687075388, best = 688.561404895\n",
      ". . . . iter 662 loss is 687.552395752, best = 687.687075388\n",
      ". . . . iter 666 loss is 685.965729224, best = 687.552395752\n",
      ". . . . . . . . . . . . . . . . . . . . . . . . . . . . . . . . . . . . . . . . . . . . . . . . . . . . . . . . . . . . . . . . . . . . . . . . . . . . . . . . . . . . . . . . . . . . . . . . . . . . . . . . . . . . . . . . . . . . . . . . . . . . . . . . . . . . . . . . . . . . . . . . . . . . . . . . . . . . . . . . . . . . . . . . . . . . . . . . . . . . . . . . . . . . . . . . . . . . . . . . . . . . . . . . . . . . . . . . . . . . . . . . . . . . . . . . . . . . . . . . . . . . . . . . . . . . . . . . . . . . . . . . . . . . . . . iter 937 loss is 685.217307815, best = 685.965729224\n",
      ". . . . . . . . . . . . . . . . . . . . . . . . . iter 962 loss is 684.4730497, best = 685.217307815\n",
      ". . . . . . . . . . . . . . . . . . . . . . . . . . . . . . . . . . . . . .\n"
     ]
    }
   ],
   "source": [
    "### strat 2: Random local search\n",
    "W = np.random.randn(10, 3073) * 0.001 # generate random starting W\n",
    "bestloss = float(\"inf\")\n",
    "for i in xrange(1000):\n",
    "    step_size = 0.0001\n",
    "    Wtry = W + np.random.randn(*W.shape) * step_size\n",
    "    loss = L(X, y, Wtry)\n",
    "    if loss < bestloss:\n",
    "            W = Wtry\n",
    "            print \"iter {} loss is {}, best = {}\".format(i, loss, bestloss)\n",
    "            bestloss = loss\n",
    "    print '.',"
   ]
  },
  {
   "cell_type": "code",
   "execution_count": 84,
   "metadata": {
    "collapsed": false
   },
   "outputs": [
    {
     "name": "stdout",
     "output_type": "stream",
     "text": [
      "original loss: 142911.154654\n"
     ]
    }
   ],
   "source": [
    "### strat 3: following a gradient\n",
    "# df(x)/dx = lim_h-->0 (f(x+h) - f(x)) /h\n",
    "# numerical vs. analytical\n",
    "\n",
    "# numerical gradient w/ finite differences\n",
    "\n",
    "def eval_numerical_gradient(f, x):\n",
    "    # eval f at x\n",
    "    fx = f(x) \n",
    "    grad = np.zeros(x.shape)\n",
    "    h = 0.00001\n",
    "    \n",
    "    itr = np.nditer(x, flags=['multi_index'], op_flags=['readwrite'])\n",
    "    while not itr.finished:\n",
    "        \n",
    "        # eval at x + h\n",
    "        ix = itr.multi_index\n",
    "        x_old = x[ix]\n",
    "        x[ix] = x_old + h\n",
    "        fxh = f(x) # at x + h\n",
    "        x[ix] = x_old\n",
    "        \n",
    "        # compute partial (i.e. the slope)\n",
    "        grad[ix] = (fxh - fx) / h\n",
    "        itr.iternext()\n",
    "        \n",
    "    return grad\n",
    "\n",
    "def CIFAR10_loss_fun(W):\n",
    "    return L(X, y, W)\n",
    "\n",
    "W = np.random.rand(10, 3073)\n",
    "df = eval_numerical_gradient(CIFAR10_loss_fun, W)\n",
    "\n",
    "loss_original = CIFAR10_loss_fun(W) # the original loss\n",
    "print 'original loss: %f' % (loss_original, )\n",
    "\n",
    "\n",
    "for step_size_log in reversed(range(1,11)*-1):\n",
    "    step_size = 10 ** step_size_log\n",
    "    W_new = W - step_size * df\n",
    "    loss_new = CIFAR10_loss_fun(W_new)\n",
    "    print 'for step size %f new loss: %f' % (step_size, loss_new)"
   ]
  },
  {
   "cell_type": "code",
   "execution_count": null,
   "metadata": {
    "collapsed": true
   },
   "outputs": [],
   "source": []
  },
  {
   "cell_type": "markdown",
   "metadata": {},
   "source": [
    "## Gradient Descent\n",
    "\n",
    "Now that we can compute gradient of the loss function, the procedure of repeatedly evaluating gradient and performing param update"
   ]
  },
  {
   "cell_type": "code",
   "execution_count": null,
   "metadata": {
    "collapsed": true
   },
   "outputs": [],
   "source": [
    "# vanilla grad descent\n",
    "while True:\n",
    "    weights_grad = evaluate_gradient(loss_fun, data, weights)\n",
    "    weights += -step_size * weights_grad\n",
    "    \n",
    "# vanilla minibatch\n",
    "while True:\n",
    "    data_batch = sample_training_data(data, 256)\n",
    "    #...\n",
    "    \n",
    "    \n",
    "# Stochastic Gradient descent (on-line) "
   ]
  },
  {
   "cell_type": "markdown",
   "metadata": {},
   "source": [
    "# Optimization - 2\n",
    "## Backprop\n",
    "\n",
    "- a way of computing gradients of expressions through recursive application of the chain rule\n",
    "\n",
    "### chain rule"
   ]
  },
  {
   "cell_type": "code",
   "execution_count": 85,
   "metadata": {
    "collapsed": true
   },
   "outputs": [],
   "source": [
    "# f(x,y,z) = (x + y)z\n",
    "x = -2 \n",
    "y = 5\n",
    "z = -4\n",
    "\n",
    "# forward pass\n",
    "q = x + y\n",
    "f = q * z\n",
    "\n",
    "# baqward pass (in reverse order)\n",
    "dfdz = q # df/dz = q\n",
    "dfdq = z # df/dq = z\n",
    "\n",
    "dfdx = 1.0 * dfdq # df/dx = 1\n",
    "dfdy = 1.0 * dfdq # df/dy = 1\n",
    "\n",
    "\n"
   ]
  },
  {
   "cell_type": "code",
   "execution_count": 88,
   "metadata": {
    "collapsed": false
   },
   "outputs": [
    {
     "name": "stdout",
     "output_type": "stream",
     "text": [
      "[2, -3, -3]\n",
      "[-1, -2]\n",
      "\n",
      "1\n",
      "0.73105857863\n",
      "\n",
      "0.196611933241\n",
      "[0.3932238664829637, -0.58983579972444555]\n",
      "[-0.19661193324148185, -0.3932238664829637, 0.19661193324148185]\n"
     ]
    }
   ],
   "source": [
    "# sigmoid example\n",
    "\n",
    "def sigmoid(w, x):\n",
    "    def f1(_):\n",
    "        return 1. / _\n",
    "    def translate(_, c = 1.):\n",
    "        return 1. + _\n",
    "    def f3(_):\n",
    "        return np.exp(_)\n",
    "    def scale(_, a):\n",
    "        return a.dot(_)\n",
    "    \n",
    "    #return 1. / (1. + np.exp(-(w.dot(x))))\n",
    "    return f1(translate(f3(scale(w, x))))\n",
    "    \n",
    "              \n",
    "              \n",
    "w = [2,-3,-3] # assume some random weights and data\n",
    "x = [-1, -2]     \n",
    "\n",
    "# forward\n",
    "dot = w[0]*x[0] + w[1]*x[1] + w[2]\n",
    "f = 1. / (1. + np.exp(-dot))\n",
    "\n",
    "#backward \n",
    "ddot = (1 - f) * f\n",
    "dx = [w[0] * ddot, w[1] * ddot]\n",
    "dw = [x[0] * ddot, x[1] * ddot, 1.0 * ddot]\n",
    "\n",
    "print w\n",
    "print x\n",
    "print\n",
    "print dot\n",
    "print f\n",
    "print \n",
    "print ddot\n",
    "print dx\n",
    "print dw"
   ]
  },
  {
   "cell_type": "code",
   "execution_count": 90,
   "metadata": {
    "collapsed": false
   },
   "outputs": [
    {
     "name": "stdout",
     "output_type": "stream",
     "text": [
      "[[-0.2572907  -0.46314989 -0.42467226 -0.65664211 -0.22707689  0.76449691\n",
      "  -0.37099763  1.92398599 -1.63775174 -0.7682263 ]\n",
      " [-0.94439368 -0.79186507  0.65888774  1.77983426  0.1641009   1.05126854\n",
      "  -0.90400879 -1.7548213  -0.05396906  0.35187036]\n",
      " [ 0.35222938 -1.02778609  0.5829509  -0.09541482 -0.53098826 -0.86712735\n",
      "   0.58447808  0.03270507 -0.51726769  0.90713454]\n",
      " [ 0.28381985  0.74556302  0.88615648 -0.28664022 -0.83993315  1.59475459\n",
      "   2.30367921 -0.04859741  0.50415448 -0.97316428]\n",
      " [-0.02281009 -0.41628561 -0.69283091 -0.37702596 -0.74587038 -0.07946188\n",
      "  -0.8332004   0.41819863  1.75697263  0.62177862]]\n",
      "[[ 0.45918898 -0.60914248 -0.04838985]\n",
      " [-0.47496011 -1.41076471 -1.02028988]\n",
      " [ 0.42509001  1.3658174   1.45032468]\n",
      " [ 0.13613069  0.42661088 -2.62142314]\n",
      " [ 1.37544665  0.8222548   2.17939869]\n",
      " [-0.76996236 -1.05102935  0.06084091]\n",
      " [-1.16645618 -0.26147845  2.02038969]\n",
      " [-2.01124522  0.32117862  0.13817652]\n",
      " [-0.19335731  1.42266673 -0.46088326]\n",
      " [-0.83692167  0.02793959 -0.61603422]]\n"
     ]
    }
   ],
   "source": [
    "### gradients for vectorized ops\n",
    "\n",
    "# forward pass\n",
    "W = np.random.randn(5, 10)\n",
    "X = np.random.randn(10, 3)\n",
    "D = W.dot(X)\n",
    "print W\n",
    "print X\n",
    "\n",
    "#print\n",
    "#print D\n",
    "#print\n",
    "\n",
    "\n",
    "# now suppose we had the gradient on D from above in the circuit\n",
    "dD = np.random.randn(*D.shape) # same shape as D\n",
    "dW = dD.dot(X.T) #.T gives the transpose of the matrix\n",
    "dX = W.T.dot(dD)\n",
    "\n"
   ]
  },
  {
   "cell_type": "markdown",
   "metadata": {},
   "source": [
    "# Neural Nets\n",
    "## Intro\n"
   ]
  },
  {
   "cell_type": "code",
   "execution_count": null,
   "metadata": {
    "collapsed": true
   },
   "outputs": [],
   "source": [
    "s = W.dot(x)\n",
    "# nn\n",
    "s = W2.dot(max(0, W1.dot(x)))\n",
    "\n",
    "# 3 layer\n",
    "s = W3.dot(max(0, W2.dot(max(0, W1.dot(x)))))\n",
    "\n",
    "# n layer .... worng..\n",
    "layers = [x, W1, W2, W3]\n",
    "for Layer in layers[1:]:\n",
    "    layers.append(\n",
    "        Layer.dot(max(0, layers[-1]))\n",
    "    )\n"
   ]
  },
  {
   "cell_type": "code",
   "execution_count": null,
   "metadata": {
    "collapsed": true
   },
   "outputs": [],
   "source": [
    "# forward-prop neuron\n",
    "class Neuron(object):\n",
    "    def forward(inputs):\n",
    "        \"\"\" 1-D numpy array\"\"\"\n",
    "        cell_body_sum = np.sum(inputs * self.weights) + self.bias\n",
    "        firing rate = 1. / 1. + np.exp(-cell_body_sum)\n",
    "        return firing_rate"
   ]
  },
  {
   "cell_type": "code",
   "execution_count": null,
   "metadata": {
    "collapsed": true
   },
   "outputs": [],
   "source": [
    "### Single neuron as linear classifier\n",
    "# activation near 1 == like, 0 == 'dislike'\n",
    "\n",
    "# Binary Softmax classifier\n",
    "# ..\n",
    "\n",
    "\n"
   ]
  },
  {
   "cell_type": "code",
   "execution_count": null,
   "metadata": {
    "collapsed": true
   },
   "outputs": [],
   "source": [
    "# forward pass of a 3-layer nn\n",
    "f = lambda x: 1.0 / (1.0 + np.exp(-x))\n",
    "x = np.random.randn(3, 1)\n",
    "h1 = f(W1.dot(x) + b1)\n",
    "h2 = f(W2.dot(h1) + b2)\n",
    "out = W3.dot(h2) + 3\n",
    "\n",
    "# each input example would be a column of x\n",
    "# x = [[ex1 feature 1], [ex2 feature 1], ... batch_size\n",
    "#       [ex1 feature 2], [ex2 feature 2], ...           ]\n",
    "\n"
   ]
  },
  {
   "cell_type": "code",
   "execution_count": null,
   "metadata": {
    "collapsed": true
   },
   "outputs": [],
   "source": []
  },
  {
   "cell_type": "markdown",
   "metadata": {},
   "source": [
    "# Data Processing"
   ]
  },
  {
   "cell_type": "code",
   "execution_count": null,
   "metadata": {
    "collapsed": true
   },
   "outputs": [],
   "source": [
    "# Mean subtraction\n",
    "X -= np.mean(X, axis=0)\n",
    "\n",
    "# Normalization \n",
    "X /= np.std(X, axis=0) \n",
    "\n",
    "# note: normalize min,max to -1, 1 if features \n",
    "#       importance not related to scale.\n",
    "#       i.e. pixels 0 to 255 are approximately equally important\n",
    "\n",
    "# PCA and Whitening\n",
    "X -= np.mean(X, axis=0)\n",
    "cov = np.dot(X.T, X) / X.shape[0] # get data covariance matrix\n",
    "\n",
    "# U are eigenvectors, S is 1-d array of singular values\n",
    "U,S,V = np.linalg.svd(cov)\n",
    "\n",
    "# decorrelate the data (project into eigenbasis)\n",
    "Xrot = np.dot(X, U)\n",
    "\n",
    "# PCA\n",
    "Xrot_reduced = np.dot(X, U[:, :n_components])\n",
    "\n",
    "# whitening (divides in every dimension by the eigenvalue to normalize scale)\n",
    "Xwhite = Xrot / np.sqrt(S + 1e-5)\n",
    "\n",
    "\n",
    "### PITFALLS\n",
    "# compute stats on train only... after splitting, then apply to test/val\n",
    "                        "
   ]
  }
 ],
 "metadata": {
  "kernelspec": {
   "display_name": "Python 2",
   "language": "python",
   "name": "python2"
  },
  "language_info": {
   "codemirror_mode": {
    "name": "ipython",
    "version": 2
   },
   "file_extension": ".py",
   "mimetype": "text/x-python",
   "name": "python",
   "nbconvert_exporter": "python",
   "pygments_lexer": "ipython2",
   "version": "2.7.12"
  }
 },
 "nbformat": 4,
 "nbformat_minor": 0
}
